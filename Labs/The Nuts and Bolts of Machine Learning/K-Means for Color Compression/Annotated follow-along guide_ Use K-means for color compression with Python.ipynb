{
 "cells": [
  {
   "cell_type": "markdown",
   "metadata": {
    "id": "j8Mfkg7ACXTS"
   },
   "source": [
    "# Using K-means for color compression \n",
    "\n"
   ]
  },
  {
   "cell_type": "markdown",
   "metadata": {
    "id": "rILLOXFqf1C8"
   },
   "source": [
    "Note that this notebook is intended as a demonstrative example of how the K-means algorithm works. Its focus is on the theory and results of its application, not on the code itself (which you will learn later). As such, it differs from other notebooks that accompany video lessons.\n",
    "\n",
    "Specifically, some of the steps in the code exceed the scope of what is taught in the lessons. **Pay attention to the cells' output, and not so much to the code that generates it.** \n",
    "\n",
    "This lab will:\n",
    "\n",
    "  * Give you a worked example of K-means on non-synthetic data\n",
    "  * Reinforce your understanding of K-means' underlying theory by demonstrating its affect when applied to a photograph"
   ]
  },
  {
   "cell_type": "markdown",
   "metadata": {
    "id": "qcj3D0O7pyQV"
   },
   "source": [
    "Before starting on this programming exercise, we strongly recommend watching the video lecture and completing the IVQ for the associated topics."
   ]
  },
  {
   "cell_type": "markdown",
   "metadata": {
    "id": "LhfePOZpqATD"
   },
   "source": [
    "As we move forward, you can find instructions on how to install required libraries as they arise in this notebook. "
   ]
  },
  {
   "cell_type": "markdown",
   "metadata": {
    "id": "f-XlW6cymuk-"
   },
   "source": [
    "## Modeling objective\n",
    "\n",
    "We will use K-means to cluster the pixels of a photograph of some tulips based on their encoded color values. We will explore how different values of _k_ affect the clustering of the pixels, and thus the appearance of the photograph. We will also examine what is happening \"under the hood\" as the algorithm executes.\n",
    "\n",
    "**NOTE: This notebook contains interactive plots that must be generated each time the notebook is opened. To ensure that the plots display, navigate to \"Kernel\" in the menu at the top of the notebook and click \"Restart & Run All\" from the dropdown menu.**"
   ]
  },
  {
   "cell_type": "markdown",
   "metadata": {
    "id": "4nkJCEOJjWXF"
   },
   "source": [
    "## Import statements\n",
    "\n",
    "We will be using numpy and pandas for operations, and Plotly for 3-D visualization. Of particular note is `Kmeans`, which is scikit-learn's implementation of the K-means algorithm. "
   ]
  },
  {
   "cell_type": "code",
   "execution_count": 1,
   "metadata": {
    "colab": {
     "base_uri": "https://localhost:8080/"
    },
    "id": "P-cZgSe37S9u",
    "outputId": "1a64e012-9a2b-4794-be04-4d323bf66ecb"
   },
   "outputs": [],
   "source": [
    "import numpy as np\n",
    "import pandas as pd\n",
    "\n",
    "%matplotlib inline\n",
    "import plotly.graph_objects as go\n",
    "\n",
    "from sklearn.cluster import KMeans"
   ]
  },
  {
   "cell_type": "markdown",
   "metadata": {
    "id": "ZRTH0BH-KOes"
   },
   "source": [
    "## Read in data\n",
    "\n",
    "The \"data\" in this case is not a pandas dataframe. It's a photograph, which we'll convert into a numerical array."
   ]
  },
  {
   "cell_type": "code",
   "execution_count": 2,
   "metadata": {
    "id": "D3X_r06L7Xql"
   },
   "outputs": [
    {
     "ename": "NameError",
     "evalue": "name 'plt' is not defined",
     "output_type": "error",
     "traceback": [
      "\u001b[0;31m---------------------------------------------------------------------------\u001b[0m",
      "\u001b[0;31mNameError\u001b[0m                                 Traceback (most recent call last)",
      "Cell \u001b[0;32mIn[2], line 2\u001b[0m\n\u001b[1;32m      1\u001b[0m \u001b[38;5;66;03m# Read in a photo\u001b[39;00m\n\u001b[0;32m----> 2\u001b[0m img \u001b[38;5;241m=\u001b[39m \u001b[43mplt\u001b[49m\u001b[38;5;241m.\u001b[39mimread(\u001b[38;5;124m'\u001b[39m\u001b[38;5;124musing_kmeans_for_color_compression_tulips_photo.jpg\u001b[39m\u001b[38;5;124m'\u001b[39m)\n",
      "\u001b[0;31mNameError\u001b[0m: name 'plt' is not defined"
     ]
    }
   ],
   "source": [
    "# Read in a photo\n",
    "img = plt.imread('using_kmeans_for_color_compression_tulips_photo.jpg')"
   ]
  },
  {
   "cell_type": "code",
   "execution_count": null,
   "metadata": {},
   "outputs": [],
   "source": [
    "print(img)"
   ]
  },
  {
   "cell_type": "code",
   "execution_count": null,
   "metadata": {
    "colab": {
     "base_uri": "https://localhost:8080/",
     "height": 266
    },
    "id": "j0JdlKld8D_u",
    "outputId": "923a6da8-a2f8-416b-d0a0-d50f30335fd7"
   },
   "outputs": [],
   "source": [
    "# Display the photo and its shape\n",
    "print(img.shape)\n",
    "plt.imshow(img)\n",
    "plt.axis('off');"
   ]
  },
  {
   "cell_type": "code",
   "execution_count": 65,
   "metadata": {},
   "outputs": [],
   "source": [
    "def altCap (string):\n",
    "    string = string.swapcase()\n",
    "    return string"
   ]
  },
  {
   "cell_type": "code",
   "execution_count": 48,
   "metadata": {},
   "outputs": [
    {
     "name": "stdout",
     "output_type": "stream",
     "text": [
      "2\n"
     ]
    }
   ],
   "source": [
    "string = 'Geeks'\n",
    "letter = 'e'\n",
    "print(string.rfind(letter))"
   ]
  },
  {
   "cell_type": "code",
   "execution_count": 66,
   "metadata": {},
   "outputs": [
    {
     "data": {
      "text/plain": [
       "'dEXTER'"
      ]
     },
     "execution_count": 66,
     "metadata": {},
     "output_type": "execute_result"
    }
   ],
   "source": [
    "string = \"Dexter\"\n",
    "altCap(string)"
   ]
  },
  {
   "cell_type": "markdown",
   "metadata": {
    "id": "O8ubAiNFCgJu"
   },
   "source": [
    "Here we have a photograph of some tulips. The shape of the image is 320 x 240 x 3. This can be interpreted as pixel information. Each dot on your screen is a pixel. This photograph has 320 vertical pixels and 240 horizontal pixels. \n",
    "\n",
    "But what is the third dimension of \"3\"? This dimension refers to the values that encode the color of each pixel. Each pixel has 3 parameters: red (R), green (G), and blue (B), also known as its RGB values. For each color—R, G, and B—the encoded value can range from 0-255. This means that there are 256³, or 16,777,216 different combinations of RGB, each resulting in a unique color on your screen. \n",
    "\n",
    "To prepare this data for modeling, we'll reshape it into an array, where each row represents a single pixel's RGB color values. "
   ]
  },
  {
   "cell_type": "code",
   "execution_count": null,
   "metadata": {
    "colab": {
     "base_uri": "https://localhost:8080/"
    },
    "id": "d4aPfQUG8MLL",
    "outputId": "641233b9-ea8f-496a-83ff-e39505454a4f"
   },
   "outputs": [],
   "source": [
    "# Reshape the image so that each row represents a single pixel \n",
    "# defined by three values: R, G, B\n",
    "img_flat = img.reshape(img.shape[0]*img.shape[1], 3)\n",
    "img_flat[:5, :]"
   ]
  },
  {
   "cell_type": "code",
   "execution_count": null,
   "metadata": {
    "colab": {
     "base_uri": "https://localhost:8080/"
    },
    "id": "lpPmtjsP9-34",
    "outputId": "9a0f9f79-1c6d-46d5-baf6-79c1eda5358d"
   },
   "outputs": [],
   "source": [
    "img_flat.shape"
   ]
  },
  {
   "cell_type": "markdown",
   "metadata": {
    "id": "XbM3qs-E8lVu"
   },
   "source": [
    "## Plot the data in 3-D space"
   ]
  },
  {
   "cell_type": "markdown",
   "metadata": {
    "id": "kfwEAkRmDc2z"
   },
   "source": [
    "Now we have an array that is 76,800 x 3. Each row is a single pixel's color values. Because we have only 3 columns, we can visualize this data in 3-dimensional space. Let's create a pandas dataframe to help us understand and visualize our data."
   ]
  },
  {
   "cell_type": "code",
   "execution_count": null,
   "metadata": {
    "colab": {
     "base_uri": "https://localhost:8080/",
     "height": 206
    },
    "id": "uBBR72Rc-ISu",
    "outputId": "40a6f922-740c-4193-87ca-f789381c5a4d"
   },
   "outputs": [],
   "source": [
    "# Create a pandas df with r, g, and b as columns\n",
    "img_flat_df = pd.DataFrame(img_flat, columns = ['r', 'g', 'b'])\n",
    "img_flat_df.head()"
   ]
  },
  {
   "cell_type": "markdown",
   "metadata": {},
   "source": [
    "**Note:** The following cell's output is viewable in two ways: You can re-run this cell, or manually convert the notebook to \"Trusted.\" "
   ]
  },
  {
   "cell_type": "code",
   "execution_count": null,
   "metadata": {
    "colab": {
     "base_uri": "https://localhost:8080/",
     "height": 542
    },
    "id": "tmok6YTL-lpm",
    "outputId": "1af84619-a412-40e5-8f26-b4504c011de2"
   },
   "outputs": [],
   "source": [
    "# Create 3D plot where each pixel in the `img` is displayed in its actual color\n",
    "trace = go.Scatter3d(x = img_flat_df.r,\n",
    "                     y = img_flat_df.g,\n",
    "                     z = img_flat_df.b,\n",
    "                     mode='markers',\n",
    "                     marker=dict(size=1,\n",
    "                                 color=['rgb({},{},{})'.format(r,g,b) for r,g,b \n",
    "                                        in zip(img_flat_df.r.values, \n",
    "                                               img_flat_df.g.values, \n",
    "                                               img_flat_df.b.values)],\n",
    "                                 opacity=0.5))\n",
    "\n",
    "data = [trace]\n",
    "\n",
    "layout = go.Layout(margin=dict(l=0,\n",
    "                               r=0,\n",
    "                               b=0,\n",
    "                               t=0),\n",
    "                               )\n",
    "\n",
    "fig = go.Figure(data=data, layout=layout)\n",
    "fig.update_layout(scene = dict(\n",
    "                    xaxis_title='R',\n",
    "                    yaxis_title='G',\n",
    "                    zaxis_title='B'),\n",
    "                  )\n",
    "fig.show()"
   ]
  },
  {
   "cell_type": "markdown",
   "metadata": {
    "id": "J0wEqKXwD-Ol"
   },
   "source": [
    "In this graph, each dot represents a color/pixel that is in our original image of tulips. The more intense the color, the more dots are concentrated in that area. The most-represented colors in the graph are the most abundant colors in the photograph: mostly reds, greens, and yellows. You can click and spin this graph to examine it from different angles. You can also zoom in and out.\n",
    "\n",
    "We can train a K-means model on this data. The algorithm will create _k_ clusters by minimizing the squared distances from each point to its nearest centroid. \n",
    "\n",
    "Let's first do an experiment. What would you expect to happen if we built a K-means model with just a single centroid (_k_ = 1) and replaced each pixel in the photograph with the RGB value of that centroid? What would the photograph look like?\n",
    "\n",
    "Let's try it. "
   ]
  },
  {
   "cell_type": "markdown",
   "metadata": {
    "id": "9HokkQLO8wUw"
   },
   "source": [
    "## Cluster the data: _k_ = 1"
   ]
  },
  {
   "cell_type": "code",
   "execution_count": null,
   "metadata": {
    "id": "AdNrGC3ZEvTG"
   },
   "outputs": [],
   "source": [
    "# Instantiate the model\n",
    "kmeans = KMeans(n_clusters=1, random_state=42).fit(img_flat)"
   ]
  },
  {
   "cell_type": "code",
   "execution_count": null,
   "metadata": {
    "colab": {
     "base_uri": "https://localhost:8080/",
     "height": 248
    },
    "id": "xwewN8uDb5J9",
    "outputId": "dd96a510-aa0e-451f-dff1-e1be230c0898"
   },
   "outputs": [],
   "source": [
    "# Copy `img_flat` so we can modify it\n",
    "img_flat1 = img_flat.copy()\n",
    "\n",
    "# Replace each row in the original image with its closest cluster center\n",
    "for i in np.unique(kmeans.labels_):\n",
    "    img_flat1[kmeans.labels_==i,:] = kmeans.cluster_centers_[i]\n",
    "\n",
    "# Reshape the data back to (640, 480, 3)\n",
    "img1 = img_flat1.reshape(img.shape)\n",
    "\n",
    "plt.imshow(img1)\n",
    "plt.axis('off');"
   ]
  },
  {
   "cell_type": "markdown",
   "metadata": {
    "id": "C6qKF3P4duK8"
   },
   "source": [
    "So what happened? Well, let's run through the K-means steps:\n",
    "\n",
    "1. We randomly placed our centroid in the colorspace.\n",
    "2. We assigned each point to its nearest centroid. Since there was only one centroid, all points were assigned to the same centroid, and thus to the same cluster.\n",
    "3. We updated the centroid's location to the mean location of all of its points. Again, since there is only a single centroid, it updated to the mean location of every point in the image.\n",
    "4. Repeat until the model converges. In this case, it only took one iteration for the model to converge. \n",
    "\n",
    "We then updated each pixel's RGB values to be the same as the centroid's. The result is the image of our tulips when every pixel is replaced with the average color. The average color of this photo was brown⁠—all the colors muddled together.\n",
    "\n",
    "We can verify this for ourselves by manually calculating the average for each column in the flattened array. This will give us the average R value, G value, and B value. "
   ]
  },
  {
   "cell_type": "code",
   "execution_count": null,
   "metadata": {
    "colab": {
     "base_uri": "https://localhost:8080/"
    },
    "id": "Cy6AdYaZe9HI",
    "outputId": "470048b8-849d-459c-db2b-17c8ffd4aa09"
   },
   "outputs": [],
   "source": [
    "# Calculate mean of each column in the flattened array\n",
    "column_means = img_flat.mean(axis=0)\n",
    "\n",
    "print('column means: ', column_means)"
   ]
  },
  {
   "cell_type": "markdown",
   "metadata": {
    "id": "pkPGWjief-1n"
   },
   "source": [
    "Now, we can compare this to what the K-means model calculated as the final location of its one centroid."
   ]
  },
  {
   "cell_type": "code",
   "execution_count": null,
   "metadata": {
    "colab": {
     "base_uri": "https://localhost:8080/"
    },
    "id": "MAVsQklkf-p5",
    "outputId": "f4468805-0b73-4c07-fd13-15e3a014ca3d"
   },
   "outputs": [],
   "source": [
    "print('cluster centers: ', kmeans.cluster_centers_)"
   ]
  },
  {
   "cell_type": "markdown",
   "metadata": {
    "id": "AM3ViQUqgG7v"
   },
   "source": [
    "They're the same! Now, let's return to the 3-D rendering of our data, only this time we'll add the centroid.\n",
    "\n",
    "**Note:** The following cell's output is viewable in two ways: You can re-run this cell, or manually convert the notebook to \"Trusted.\" "
   ]
  },
  {
   "cell_type": "code",
   "execution_count": null,
   "metadata": {
    "colab": {
     "base_uri": "https://localhost:8080/",
     "height": 542
    },
    "id": "CqAU2ow0gFg4",
    "outputId": "7b9f7322-e986-4cd6-9244-f1019615f001"
   },
   "outputs": [],
   "source": [
    "# Create 3-D plot where each pixel in the `img` is displayed in its actual color\n",
    "trace = go.Scatter3d(x = img_flat_df.r,\n",
    "                     y = img_flat_df.g,\n",
    "                     z = img_flat_df.b,\n",
    "                     mode='markers',\n",
    "                     marker=dict(size=1,\n",
    "                                 color=['rgb({},{},{})'.format(r,g,b) for \n",
    "                                        r,g,b in zip(img_flat_df.r.values, \n",
    "                                                     img_flat_df.g.values, \n",
    "                                                     img_flat_df.b.values)],\n",
    "                                 opacity=0.5))\n",
    "\n",
    "data = [trace]\n",
    "\n",
    "layout = go.Layout(margin=dict(l=0,\n",
    "                               r=0,\n",
    "                               b=0,\n",
    "                               t=0))\n",
    "\n",
    "fig = go.Figure(data=data, layout=layout)\n",
    "\n",
    "\n",
    "# Add centroid to chart\n",
    "centroid = kmeans.cluster_centers_[0].tolist()\n",
    "\n",
    "fig.add_trace(\n",
    "    go.Scatter3d(x = [centroid[0]],\n",
    "                 y = [centroid[1]],\n",
    "                 z = [centroid[2]],\n",
    "                 mode='markers',\n",
    "                 marker=dict(size=7,\n",
    "                             color=['rgb(125.79706706,78.8178776,42.58090169)'],\n",
    "                             opacity=1))\n",
    ")\n",
    "fig.update_layout(scene = dict(\n",
    "                    xaxis_title='R',\n",
    "                    yaxis_title='G',\n",
    "                    zaxis_title='B'),\n",
    "                  )\n",
    "fig.show()"
   ]
  },
  {
   "cell_type": "markdown",
   "metadata": {
    "id": "zkDWYHVtFfQO"
   },
   "source": [
    "We can see the centroid as a large circle in the middle of the colorspace. (If you can't, just click on the image and spin/zoom it.) Notice that this is the \"center of gravity\" of all the points in the graph.\n",
    "\n",
    "Now let's try something else. Let's refit a K-means model to the data, this time using _k_ = 3. Take a moment to consider what you might expect to result from this. Go through the steps of what the model is doing like we did above. What colors are you likely to see?"
   ]
  },
  {
   "cell_type": "markdown",
   "metadata": {
    "id": "MFCPvxRG85yl"
   },
   "source": [
    "## Cluster the data: _k_ = 3"
   ]
  },
  {
   "cell_type": "code",
   "execution_count": null,
   "metadata": {
    "colab": {
     "base_uri": "https://localhost:8080/"
    },
    "id": "fCEbWtpvBiPp",
    "outputId": "9efc69b3-2c25-4c4f-c7e8-c2f84d9117a1"
   },
   "outputs": [],
   "source": [
    "# Instantiate k-means model for 3 clusters\n",
    "kmeans3 = KMeans(n_clusters=3, random_state=42).fit(img_flat)\n",
    "\n",
    "# Check the unique values of what's returned by the .labels_ attribute \n",
    "np.unique(kmeans3.labels_)"
   ]
  },
  {
   "cell_type": "markdown",
   "metadata": {
    "id": "FfFix07403SF"
   },
   "source": [
    "The `.cluster_centers_` attribute returns an array where each element represents the coordinates of a centroid (i.e., their RGB values). We'll use these coordinates as we did previously to generate the colors that are represented by our centroids."
   ]
  },
  {
   "cell_type": "code",
   "execution_count": null,
   "metadata": {
    "colab": {
     "base_uri": "https://localhost:8080/"
    },
    "id": "FUsmOYIbGyDq",
    "outputId": "22364aa7-c4a6-479a-84f1-ab2e6c3984e2"
   },
   "outputs": [],
   "source": [
    "# Assign centroid coordinates to `centers` variable\n",
    "centers = kmeans3.cluster_centers_\n",
    "centers"
   ]
  },
  {
   "cell_type": "markdown",
   "metadata": {
    "id": "QvUUB5oW2-rd"
   },
   "source": [
    "Now we'll create a helper function to easily display RGB values as color swatches, and use it to check the colors of the model's centroids."
   ]
  },
  {
   "cell_type": "code",
   "execution_count": null,
   "metadata": {
    "id": "W4bXociGG9tC"
   },
   "outputs": [],
   "source": [
    "# Helper function that creates color swatches\n",
    "def show_swatch(RGB_value):\n",
    "    '''\n",
    "    Takes in an RGB value and outputs a color swatch\n",
    "    '''\n",
    "    R, G, B = RGB_value\n",
    "    rgb = [[np.array([R,G,B]).astype('uint8')]]\n",
    "    plt.figure()\n",
    "    plt.imshow(rgb)\n",
    "    plt.axis('off');"
   ]
  },
  {
   "cell_type": "code",
   "execution_count": null,
   "metadata": {
    "colab": {
     "base_uri": "https://localhost:8080/",
     "height": 710
    },
    "id": "WNyuaS1eHbsT",
    "outputId": "fa8d1276-4823-40db-c6d4-78b076cb48f7"
   },
   "outputs": [],
   "source": [
    "# Display the color swatches\n",
    "for pixel in centers:\n",
    "    show_swatch(pixel)"
   ]
  },
  {
   "cell_type": "markdown",
   "metadata": {
    "id": "K1ajYixCM3x5"
   },
   "source": [
    "Hopefully, you hypothesized that we'd see similar colors as a result of a 3-cluster model. If you examine the original image of the tulips, it's apparent that there are generally three dominant colors: reds, greens, and golds/yellows, which is very close to what the model returned.\n",
    "\n",
    "Just as before, let's now replace each pixel in the original image with the RGB value of the centroid to which it was assigned."
   ]
  },
  {
   "cell_type": "code",
   "execution_count": null,
   "metadata": {
    "id": "OS9vqoI3M3Oq"
   },
   "outputs": [],
   "source": [
    "# Helper function to display our photograph when clustered into k clusters\n",
    "def cluster_image(k, img=img):\n",
    "    '''\n",
    "    Fits a K-means model to a photograph.\n",
    "    Replaces photo's pixels with RGB values of model's centroids.\n",
    "    Displays the updated image.\n",
    "\n",
    "    Args:\n",
    "      k:    (int)          - Your selected K-value\n",
    "      img:  (numpy array)  - Your original image converted to a numpy array\n",
    "\n",
    "    Returns:\n",
    "      The output of plt.imshow(new_img), where new_img is a new numpy array \\\n",
    "      where each row of the original array has been replaced with the \\ \n",
    "      coordinates of its nearest centroid.\n",
    "    '''\n",
    "\n",
    "    img_flat = img.reshape(img.shape[0]*img.shape[1], 3)\n",
    "    kmeans = KMeans(n_clusters = k, random_state = 42).fit(img_flat)\n",
    "    new_img = img_flat.copy()\n",
    "  \n",
    "    for i in np.unique(kmeans.labels_):\n",
    "        new_img[kmeans.labels_ == i, :] = kmeans.cluster_centers_[i]\n",
    "  \n",
    "    new_img = new_img.reshape(img.shape)\n",
    "\n",
    "    return plt.imshow(new_img), plt.axis('off');\n",
    "  "
   ]
  },
  {
   "cell_type": "code",
   "execution_count": null,
   "metadata": {
    "colab": {
     "base_uri": "https://localhost:8080/",
     "height": 248
    },
    "id": "vjVjvihTHfNq",
    "outputId": "beb62fa9-b014-412b-a17b-c15623354bbe"
   },
   "outputs": [],
   "source": [
    "# Generate image when k=3\n",
    "cluster_image(3);"
   ]
  },
  {
   "cell_type": "markdown",
   "metadata": {
    "id": "z4G8ozgbsX4s"
   },
   "source": [
    "We now have a photo with just three colors. Each pixel's RGB values correspond to the values of its nearest centroid. \n",
    "\n",
    "We can return once more to our 3-D colorspace. This time, we'll re-color each dot in the colorspace to correspond with the color of its centroid. This will allow us to see how the K-means algorithm clustered our data spatially. \n",
    "\n",
    "Again, don't concern yourself so much with the code. Feel free to skip down to the graph."
   ]
  },
  {
   "cell_type": "code",
   "execution_count": null,
   "metadata": {
    "colab": {
     "base_uri": "https://localhost:8080/"
    },
    "id": "E43cMVrqVSTV",
    "outputId": "565a76c6-45c9-44cc-93aa-57cc9fce44e6"
   },
   "outputs": [],
   "source": [
    "# Just to get an understanding of what the data structures look like\n",
    "\n",
    "print(kmeans3.labels_.shape)\n",
    "print(kmeans3.labels_)\n",
    "print(np.unique(kmeans3.labels_))\n",
    "print(kmeans3.cluster_centers_)"
   ]
  },
  {
   "cell_type": "code",
   "execution_count": null,
   "metadata": {
    "colab": {
     "base_uri": "https://localhost:8080/",
     "height": 206
    },
    "id": "zooFPRp8Vbi-",
    "outputId": "ba25552a-f704-4a5b-f3ba-77694695a1ac"
   },
   "outputs": [],
   "source": [
    "# Create a new column in the df that indicates the cluster number of each row \n",
    "# (as assigned by Kmeans for k=3)\n",
    "img_flat_df['cluster'] = kmeans3.labels_\n",
    "img_flat_df.head()"
   ]
  },
  {
   "cell_type": "code",
   "execution_count": null,
   "metadata": {
    "colab": {
     "base_uri": "https://localhost:8080/"
    },
    "id": "D-4wbiVBV0G1",
    "outputId": "5e3126b0-be9e-4fce-a9f5-813b896e7b0e"
   },
   "outputs": [],
   "source": [
    "# Create helper dictionary to map RGB color values to each observation in df\n",
    "series_conversion = {0: 'rgb' +str(tuple(kmeans3.cluster_centers_[0])),\n",
    "                     1: 'rgb' +str(tuple(kmeans3.cluster_centers_[1])),\n",
    "                     2: 'rgb' +str(tuple(kmeans3.cluster_centers_[2])),\n",
    "                     }\n",
    "series_conversion"
   ]
  },
  {
   "cell_type": "code",
   "execution_count": null,
   "metadata": {
    "colab": {
     "base_uri": "https://localhost:8080/",
     "height": 206
    },
    "id": "uftPXWlVXgtP",
    "outputId": "befe1356-0e91-4d88-976c-51537ffaab8f"
   },
   "outputs": [],
   "source": [
    "# Replace the cluster numbers in the 'cluster' col with formatted RGB values \n",
    "# (made ready for plotting)\n",
    "img_flat_df['cluster'] = img_flat_df['cluster'].map(series_conversion)\n",
    "img_flat_df.head()"
   ]
  },
  {
   "cell_type": "code",
   "execution_count": null,
   "metadata": {
    "colab": {
     "base_uri": "https://localhost:8080/",
     "height": 542
    },
    "id": "4phXdlZDU6QE",
    "outputId": "e07c19b9-e16d-45dd-ff78-a075ed3230f9"
   },
   "outputs": [],
   "source": [
    "# Replot the data, now showing which cluster (i.e., color) it was assigned to by K-means when k=3\n",
    "\n",
    "trace = go.Scatter3d(x = img_flat_df.r,\n",
    "                     y = img_flat_df.g,\n",
    "                     z = img_flat_df.b,\n",
    "                     mode='markers',\n",
    "                     marker=dict(size=1,\n",
    "                                 color=img_flat_df.cluster,\n",
    "                                 opacity=1))\n",
    "\n",
    "data = trace\n",
    "\n",
    "layout = go.Layout(margin=dict(l=0,\n",
    "                               r=0,\n",
    "                               b=0,\n",
    "                               t=0))\n",
    "\n",
    "fig = go.Figure(data=data, layout=layout)\n",
    "fig.show()"
   ]
  },
  {
   "cell_type": "markdown",
   "metadata": {
    "id": "CCZf2N6ytWGQ"
   },
   "source": [
    "You may be thinking to yourself that you would have clustered the data differently based on the distribution of points that you saw in the first 3-D plot. For example, why is there a sharp line that separates red and green, when there doesn't appear to be any empty space there in the data?\n",
    "\n",
    "You're not incorrect. Even though there's no such thing as \"wrong\" clustering, some ways can definitely be better than others. \n",
    "\n",
    "You'll notice in the original 3-D rendering that there are long bands—not round balls—of clustered data. K-means works best when the clusters are more circular, because it tries to minimize distance from point to centroid. It may be worth trying a different clustering algorithm if you want to cluster a long, narrow, continuous band of data. (More on these later!)\n",
    "\n",
    "Nonetheless, K-means successfully compresses the colors of this photograph. This process can be applied for any value of _k_. Here's the output of each photo for _k_ = 2–10."
   ]
  },
  {
   "cell_type": "markdown",
   "metadata": {
    "id": "VNABhyc89JgP"
   },
   "source": [
    "## Cluster the data: _k_ = 2-10"
   ]
  },
  {
   "cell_type": "code",
   "execution_count": null,
   "metadata": {
    "colab": {
     "base_uri": "https://localhost:8080/",
     "height": 699
    },
    "id": "qBLxtX2cxd-k",
    "outputId": "67207464-61ef-471e-fad3-fad3dd48b2cf"
   },
   "outputs": [],
   "source": [
    "# Helper function to plot image grid\n",
    "def cluster_image_grid(k, ax, img=img):\n",
    "    '''\n",
    "    Fits a K-means model to a photograph.\n",
    "    Replaces photo's pixels with RGB values of model's centroids.\n",
    "    Displays the updated image on an axis of a figure.\n",
    "\n",
    "    Args:\n",
    "      k:    (int)          - Your selected K-value\n",
    "      ax:   (int)          - Index of the axis of the figure to plot to\n",
    "      img:  (numpy array)  - Your original image converted to a numpy array\n",
    "\n",
    "    Returns:\n",
    "      A new image where each row of img's array has been replaced with the \\ \n",
    "      coordinates of its nearest centroid. Image is assigned to an axis that \\\n",
    "      can be used in an image grid figure.\n",
    "    '''\n",
    "    img_flat = img.reshape(img.shape[0]*img.shape[1], 3)\n",
    "    kmeans = KMeans(n_clusters=k, random_state=42).fit(img_flat)\n",
    "    new_img = img_flat.copy()\n",
    "\n",
    "    for i in np.unique(kmeans.labels_):\n",
    "        new_img[kmeans.labels_==i, :] = kmeans.cluster_centers_[i]\n",
    "\n",
    "    new_img = new_img.reshape(img.shape)\n",
    "    ax.imshow(new_img)\n",
    "    ax.axis('off')\n",
    "\n",
    "fig, axs = plt.subplots(3, 3)\n",
    "fig = matplotlib.pyplot.gcf()\n",
    "fig.set_size_inches(9, 12)\n",
    "axs = axs.flatten()\n",
    "k_values = np.arange(2, 11)\n",
    "for i, k in enumerate(k_values):\n",
    "    cluster_image_grid(k, axs[i], img=img)\n",
    "    axs[i].title.set_text('k=' + str(k))"
   ]
  },
  {
   "cell_type": "markdown",
   "metadata": {
    "id": "A4I_CxE9vZhk"
   },
   "source": [
    "Notice that it becomes increasingly difficult to see the difference between the images each time a color is added. This is a visual example of something that happens with all clustering models, even if the data is not an image that you can see. As you group the data into more and more clusters, additional clusters beyond a certain point contribute less and less to your understanding of your data.\n",
    "\n",
    "Hopefully, this demonstration has deepened your understanding of how the K-means algorithm works. Soon, we’ll explore methods for numerically determining which _k_ value is best for particular data. As always, feel free to explore the notebook more on your own to keep building your skillset!\n",
    "\n"
   ]
  },
  {
   "cell_type": "markdown",
   "metadata": {},
   "source": [
    "**Congratulations!** You've completed this lab. However, you may not notice a green check mark next to this item on Coursera's platform. Please continue your progress regardless of the check mark. Just click on the \"save\" icon at the top of this notebook to ensure your work has been logged."
   ]
  }
 ],
 "metadata": {
  "colab": {
   "collapsed_sections": [],
   "provenance": [
    {
     "file_id": "18pESf9is5mcSclgJkEtBW5TjAWS-PzRR",
     "timestamp": 1664301289026
    }
   ]
  },
  "kernelspec": {
   "display_name": "Python 3 (ipykernel)",
   "language": "python",
   "name": "python3"
  },
  "language_info": {
   "codemirror_mode": {
    "name": "ipython",
    "version": 3
   },
   "file_extension": ".py",
   "mimetype": "text/x-python",
   "name": "python",
   "nbconvert_exporter": "python",
   "pygments_lexer": "ipython3",
   "version": "3.12.4"
  }
 },
 "nbformat": 4,
 "nbformat_minor": 4
}
