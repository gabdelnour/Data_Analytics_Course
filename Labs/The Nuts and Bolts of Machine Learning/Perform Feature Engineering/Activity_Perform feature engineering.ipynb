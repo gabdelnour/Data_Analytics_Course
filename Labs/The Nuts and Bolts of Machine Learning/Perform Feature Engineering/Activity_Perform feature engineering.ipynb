{
 "cells": [
  {
   "cell_type": "markdown",
   "metadata": {
    "id": "yugMU9MjJtBl"
   },
   "source": [
    "# Activity: Perform feature engineering "
   ]
  },
  {
   "cell_type": "markdown",
   "metadata": {
    "id": "EzWqJunmJotv"
   },
   "source": [
    "## **Introduction**\n",
    "\n",
    "\n",
    "As you're learning, data professionals working on modeling projects use featuring engineering to help them determine which attributes in the data can best predict certain measures.\n",
    "\n",
    "In this activity, you are working for a firm that provides insights to the National Basketball Association (NBA), a professional North American basketball league. You will help NBA managers and coaches identify which players are most likely to thrive in the high-pressure environment of professional basketball and help the team be successful over time.\n",
    "\n",
    "To do this, you will analyze a subset of data that contains information about NBA players and their performance records. You will conduct feature engineering to determine which features will most effectively predict whether a player's NBA career will last at least five years. The insights gained then will be used in the next stage of the project: building the predictive model.\n"
   ]
  },
  {
   "cell_type": "markdown",
   "metadata": {
    "id": "yTVinL1hJqoy"
   },
   "source": [
    "## **Step 1: Imports** \n"
   ]
  },
  {
   "cell_type": "markdown",
   "metadata": {},
   "source": [
    "Start by importing `pandas`."
   ]
  },
  {
   "cell_type": "code",
   "execution_count": 4,
   "metadata": {
    "id": "1nDjAJPa4lVZ"
   },
   "outputs": [],
   "source": [
    "# Import pandas.\n",
    "\n",
    "import pandas as pd\n",
    "import numpy as np\n"
   ]
  },
  {
   "cell_type": "markdown",
   "metadata": {
    "id": "hKylHziGzY3X"
   },
   "source": [
    "The dataset is a .csv file named `nba-players.csv`. It consists of performance records for a subset of NBA players. As shown in this cell, the dataset has been automatically loaded in for you. You do not need to download the .csv file, or provide more code, in order to access the dataset and proceed with this lab. Please continue with this activity by completing the following instructions."
   ]
  },
  {
   "cell_type": "code",
   "execution_count": 2,
   "metadata": {
    "id": "4ebqpNcm4BDH"
   },
   "outputs": [],
   "source": [
    "# RUN THIS CELL TO IMPORT YOUR DATA.\n",
    "\n",
    "# Save in a variable named `data`.\n",
    "\n",
    "### YOUR CODE HERE ###\n",
    "\n",
    "data = pd.read_csv(\"nba-players.csv\", index_col=0)"
   ]
  },
  {
   "cell_type": "markdown",
   "metadata": {
    "id": "L41MRy4Yzrjp"
   },
   "source": [
    "<details><summary><h4><strong>Hint 1</strong></h4></summary>\n",
    "\n",
    "The `read_csv()` function from `pandas` allows you to read in data from a csv file and load it into a DataFrame.\n",
    "    \n",
    "</details>"
   ]
  },
  {
   "cell_type": "markdown",
   "metadata": {
    "id": "tZeUaTZQqCEH"
   },
   "source": [
    "<details><summary><h4><strong>Hint 2</strong></h4></summary>\n",
    "\n",
    "Call the `read_csv()`, pass in the name of the csv file as a string, followed by `index_col=0` to use the first column from the csv as the index in the DataFrame.\n",
    "    \n",
    "</details>"
   ]
  },
  {
   "cell_type": "markdown",
   "metadata": {
    "id": "4zz8claq0Swi"
   },
   "source": [
    "## **Step 2: Data exploration** "
   ]
  },
  {
   "cell_type": "markdown",
   "metadata": {
    "id": "8kgPx_MP0cuc"
   },
   "source": [
    "Display the first 10 rows of the data to get a sense of what it entails."
   ]
  },
  {
   "cell_type": "code",
   "execution_count": 3,
   "metadata": {
    "id": "0_U0Rb-x4h77"
   },
   "outputs": [
    {
     "data": {
      "text/html": [
       "<div>\n",
       "<style scoped>\n",
       "    .dataframe tbody tr th:only-of-type {\n",
       "        vertical-align: middle;\n",
       "    }\n",
       "\n",
       "    .dataframe tbody tr th {\n",
       "        vertical-align: top;\n",
       "    }\n",
       "\n",
       "    .dataframe thead th {\n",
       "        text-align: right;\n",
       "    }\n",
       "</style>\n",
       "<table border=\"1\" class=\"dataframe\">\n",
       "  <thead>\n",
       "    <tr style=\"text-align: right;\">\n",
       "      <th></th>\n",
       "      <th>name</th>\n",
       "      <th>gp</th>\n",
       "      <th>min</th>\n",
       "      <th>pts</th>\n",
       "      <th>fgm</th>\n",
       "      <th>fga</th>\n",
       "      <th>fg</th>\n",
       "      <th>3p_made</th>\n",
       "      <th>3pa</th>\n",
       "      <th>3p</th>\n",
       "      <th>...</th>\n",
       "      <th>fta</th>\n",
       "      <th>ft</th>\n",
       "      <th>oreb</th>\n",
       "      <th>dreb</th>\n",
       "      <th>reb</th>\n",
       "      <th>ast</th>\n",
       "      <th>stl</th>\n",
       "      <th>blk</th>\n",
       "      <th>tov</th>\n",
       "      <th>target_5yrs</th>\n",
       "    </tr>\n",
       "  </thead>\n",
       "  <tbody>\n",
       "    <tr>\n",
       "      <th>0</th>\n",
       "      <td>Brandon Ingram</td>\n",
       "      <td>36</td>\n",
       "      <td>27.4</td>\n",
       "      <td>7.4</td>\n",
       "      <td>2.6</td>\n",
       "      <td>7.6</td>\n",
       "      <td>34.7</td>\n",
       "      <td>0.5</td>\n",
       "      <td>2.1</td>\n",
       "      <td>25.0</td>\n",
       "      <td>...</td>\n",
       "      <td>2.3</td>\n",
       "      <td>69.9</td>\n",
       "      <td>0.7</td>\n",
       "      <td>3.4</td>\n",
       "      <td>4.1</td>\n",
       "      <td>1.9</td>\n",
       "      <td>0.4</td>\n",
       "      <td>0.4</td>\n",
       "      <td>1.3</td>\n",
       "      <td>0</td>\n",
       "    </tr>\n",
       "    <tr>\n",
       "      <th>1</th>\n",
       "      <td>Andrew Harrison</td>\n",
       "      <td>35</td>\n",
       "      <td>26.9</td>\n",
       "      <td>7.2</td>\n",
       "      <td>2.0</td>\n",
       "      <td>6.7</td>\n",
       "      <td>29.6</td>\n",
       "      <td>0.7</td>\n",
       "      <td>2.8</td>\n",
       "      <td>23.5</td>\n",
       "      <td>...</td>\n",
       "      <td>3.4</td>\n",
       "      <td>76.5</td>\n",
       "      <td>0.5</td>\n",
       "      <td>2.0</td>\n",
       "      <td>2.4</td>\n",
       "      <td>3.7</td>\n",
       "      <td>1.1</td>\n",
       "      <td>0.5</td>\n",
       "      <td>1.6</td>\n",
       "      <td>0</td>\n",
       "    </tr>\n",
       "    <tr>\n",
       "      <th>2</th>\n",
       "      <td>JaKarr Sampson</td>\n",
       "      <td>74</td>\n",
       "      <td>15.3</td>\n",
       "      <td>5.2</td>\n",
       "      <td>2.0</td>\n",
       "      <td>4.7</td>\n",
       "      <td>42.2</td>\n",
       "      <td>0.4</td>\n",
       "      <td>1.7</td>\n",
       "      <td>24.4</td>\n",
       "      <td>...</td>\n",
       "      <td>1.3</td>\n",
       "      <td>67.0</td>\n",
       "      <td>0.5</td>\n",
       "      <td>1.7</td>\n",
       "      <td>2.2</td>\n",
       "      <td>1.0</td>\n",
       "      <td>0.5</td>\n",
       "      <td>0.3</td>\n",
       "      <td>1.0</td>\n",
       "      <td>0</td>\n",
       "    </tr>\n",
       "    <tr>\n",
       "      <th>3</th>\n",
       "      <td>Malik Sealy</td>\n",
       "      <td>58</td>\n",
       "      <td>11.6</td>\n",
       "      <td>5.7</td>\n",
       "      <td>2.3</td>\n",
       "      <td>5.5</td>\n",
       "      <td>42.6</td>\n",
       "      <td>0.1</td>\n",
       "      <td>0.5</td>\n",
       "      <td>22.6</td>\n",
       "      <td>...</td>\n",
       "      <td>1.3</td>\n",
       "      <td>68.9</td>\n",
       "      <td>1.0</td>\n",
       "      <td>0.9</td>\n",
       "      <td>1.9</td>\n",
       "      <td>0.8</td>\n",
       "      <td>0.6</td>\n",
       "      <td>0.1</td>\n",
       "      <td>1.0</td>\n",
       "      <td>1</td>\n",
       "    </tr>\n",
       "    <tr>\n",
       "      <th>4</th>\n",
       "      <td>Matt Geiger</td>\n",
       "      <td>48</td>\n",
       "      <td>11.5</td>\n",
       "      <td>4.5</td>\n",
       "      <td>1.6</td>\n",
       "      <td>3.0</td>\n",
       "      <td>52.4</td>\n",
       "      <td>0.0</td>\n",
       "      <td>0.1</td>\n",
       "      <td>0.0</td>\n",
       "      <td>...</td>\n",
       "      <td>1.9</td>\n",
       "      <td>67.4</td>\n",
       "      <td>1.0</td>\n",
       "      <td>1.5</td>\n",
       "      <td>2.5</td>\n",
       "      <td>0.3</td>\n",
       "      <td>0.3</td>\n",
       "      <td>0.4</td>\n",
       "      <td>0.8</td>\n",
       "      <td>1</td>\n",
       "    </tr>\n",
       "  </tbody>\n",
       "</table>\n",
       "<p>5 rows × 21 columns</p>\n",
       "</div>"
      ],
      "text/plain": [
       "              name  gp   min  pts  fgm  fga    fg  3p_made  3pa    3p  ...  \\\n",
       "0   Brandon Ingram  36  27.4  7.4  2.6  7.6  34.7      0.5  2.1  25.0  ...   \n",
       "1  Andrew Harrison  35  26.9  7.2  2.0  6.7  29.6      0.7  2.8  23.5  ...   \n",
       "2   JaKarr Sampson  74  15.3  5.2  2.0  4.7  42.2      0.4  1.7  24.4  ...   \n",
       "3      Malik Sealy  58  11.6  5.7  2.3  5.5  42.6      0.1  0.5  22.6  ...   \n",
       "4      Matt Geiger  48  11.5  4.5  1.6  3.0  52.4      0.0  0.1   0.0  ...   \n",
       "\n",
       "   fta    ft  oreb  dreb  reb  ast  stl  blk  tov  target_5yrs  \n",
       "0  2.3  69.9   0.7   3.4  4.1  1.9  0.4  0.4  1.3            0  \n",
       "1  3.4  76.5   0.5   2.0  2.4  3.7  1.1  0.5  1.6            0  \n",
       "2  1.3  67.0   0.5   1.7  2.2  1.0  0.5  0.3  1.0            0  \n",
       "3  1.3  68.9   1.0   0.9  1.9  0.8  0.6  0.1  1.0            1  \n",
       "4  1.9  67.4   1.0   1.5  2.5  0.3  0.3  0.4  0.8            1  \n",
       "\n",
       "[5 rows x 21 columns]"
      ]
     },
     "execution_count": 3,
     "metadata": {},
     "output_type": "execute_result"
    }
   ],
   "source": [
    "# Display first 10 rows of data.\n",
    "\n",
    "data.head()\n"
   ]
  },
  {
   "cell_type": "markdown",
   "metadata": {
    "id": "pUmzKZUU2mKp"
   },
   "source": [
    "<details>\n",
    "<summary><h4><strong>Hint 1</strong></h4></summary>\n",
    "\n",
    "There is a function in the `pandas` library that can be called on a DataFrame to display the first n number of rows, where n is a number of your choice. \n",
    "</details>"
   ]
  },
  {
   "cell_type": "markdown",
   "metadata": {
    "id": "ORy1MNR62mKq"
   },
   "source": [
    "<details>\n",
    "<summary><h4><strong>Hint 2</strong></h4></summary>\n",
    "\n",
    "Call the `head()` function and pass in 10.\n",
    "</details>"
   ]
  },
  {
   "cell_type": "markdown",
   "metadata": {
    "id": "Gjasizab0tSL"
   },
   "source": [
    "Display the number of rows and the number of columns to get a sense of how much data is available to you."
   ]
  },
  {
   "cell_type": "code",
   "execution_count": 6,
   "metadata": {
    "id": "xtxpSjCm4jCa"
   },
   "outputs": [
    {
     "data": {
      "text/plain": [
       "(1340, 21)"
      ]
     },
     "execution_count": 6,
     "metadata": {},
     "output_type": "execute_result"
    }
   ],
   "source": [
    "# Display number of rows, number of columns.\n",
    "\n",
    "data.shape"
   ]
  },
  {
   "cell_type": "markdown",
   "metadata": {
    "id": "dx8DO1Rw2ZBZ"
   },
   "source": [
    "<details>\n",
    "<summary><h4><strong>Hint 1</strong></h4></summary>\n",
    "\n",
    "DataFrames in `pandas` have an attribute that can be called to get the number of rows and columns as a tuple.\n",
    "</details>"
   ]
  },
  {
   "cell_type": "markdown",
   "metadata": {
    "id": "G9pDSxlG2di1"
   },
   "source": [
    "<details>\n",
    "<summary><h4><strong>Hint 2</strong></h4></summary>\n",
    "\n",
    "You can call the `shape` attribute.\n",
    "</details>"
   ]
  },
  {
   "cell_type": "markdown",
   "metadata": {
    "id": "zZndsnPq1UyL"
   },
   "source": [
    "**Question:** What do you observe about the number of rows and the number of columns in the data?"
   ]
  },
  {
   "cell_type": "markdown",
   "metadata": {
    "id": "PyElw2KWziLs"
   },
   "source": [
    " [Write your response here. Double-click (or enter) to edit.]"
   ]
  },
  {
   "cell_type": "markdown",
   "metadata": {
    "id": "27OsOXsfVPC7"
   },
   "source": [
    "Now, display all column names to get a sense of the kinds of metadata available about each player. Use the columns property in pandas.\n"
   ]
  },
  {
   "cell_type": "code",
   "execution_count": 7,
   "metadata": {
    "id": "3q9zjB-s1SZt"
   },
   "outputs": [
    {
     "name": "stdout",
     "output_type": "stream",
     "text": [
      "<class 'pandas.core.frame.DataFrame'>\n",
      "Int64Index: 1340 entries, 0 to 1339\n",
      "Data columns (total 21 columns):\n",
      " #   Column       Non-Null Count  Dtype  \n",
      "---  ------       --------------  -----  \n",
      " 0   name         1340 non-null   object \n",
      " 1   gp           1340 non-null   int64  \n",
      " 2   min          1340 non-null   float64\n",
      " 3   pts          1340 non-null   float64\n",
      " 4   fgm          1340 non-null   float64\n",
      " 5   fga          1340 non-null   float64\n",
      " 6   fg           1340 non-null   float64\n",
      " 7   3p_made      1340 non-null   float64\n",
      " 8   3pa          1340 non-null   float64\n",
      " 9   3p           1340 non-null   float64\n",
      " 10  ftm          1340 non-null   float64\n",
      " 11  fta          1340 non-null   float64\n",
      " 12  ft           1340 non-null   float64\n",
      " 13  oreb         1340 non-null   float64\n",
      " 14  dreb         1340 non-null   float64\n",
      " 15  reb          1340 non-null   float64\n",
      " 16  ast          1340 non-null   float64\n",
      " 17  stl          1340 non-null   float64\n",
      " 18  blk          1340 non-null   float64\n",
      " 19  tov          1340 non-null   float64\n",
      " 20  target_5yrs  1340 non-null   int64  \n",
      "dtypes: float64(18), int64(2), object(1)\n",
      "memory usage: 230.3+ KB\n"
     ]
    }
   ],
   "source": [
    "# Display all column names.\n",
    "\n",
    "data.info()\n"
   ]
  },
  {
   "cell_type": "markdown",
   "metadata": {
    "id": "bxS9GyWmjwa-"
   },
   "source": [
    "The following table provides a description of the data in each column. This metadata comes from the data source, which is listed in the references section of this lab.\n",
    "\n",
    "<center>\n",
    "\n",
    "|Column Name|Column Description|\n",
    "|:---|:-------|\n",
    "|`name`|Name of NBA player|\n",
    "|`gp`|Number of games played|\n",
    "|`min`|Number of minutes played per game|\n",
    "|`pts`|Average number of points per game|\n",
    "|`fgm`|Average number of field goals made per game|\n",
    "|`fga`|Average number of field goal attempts per game|\n",
    "|`fg`|Average percent of field goals made per game|\n",
    "|`3p_made`|Average number of three-point field goals made per game|\n",
    "|`3pa`|Average number of three-point field goal attempts per game|\n",
    "|`3p`|Average percent of three-point field goals made per game|\n",
    "|`ftm`|Average number of free throws made per game|\n",
    "|`fta`|Average number of free throw attempts per game|\n",
    "|`ft`|Average percent of free throws made per game|\n",
    "|`oreb`|Average number of offensive rebounds per game|\n",
    "|`dreb`|Average number of defensive rebounds per game|\n",
    "|`reb`|Average number of rebounds per game|\n",
    "|`ast`|Average number of assists per game|\n",
    "|`stl`|Average number of steals per game|\n",
    "|`blk`|Average number of blocks per game|\n",
    "|`tov`|Average number of turnovers per game|\n",
    "|`target_5yrs`|1 if career duration >= 5 yrs, 0 otherwise|\n",
    "\n",
    "</center>"
   ]
  },
  {
   "cell_type": "markdown",
   "metadata": {
    "id": "HvomDnvFq4DW"
   },
   "source": [
    "Next, display a summary of the data to get additional information about the DataFrame, including the types of data in the columns."
   ]
  },
  {
   "cell_type": "code",
   "execution_count": 8,
   "metadata": {
    "id": "28h2TzH-o8NQ"
   },
   "outputs": [
    {
     "data": {
      "text/html": [
       "<div>\n",
       "<style scoped>\n",
       "    .dataframe tbody tr th:only-of-type {\n",
       "        vertical-align: middle;\n",
       "    }\n",
       "\n",
       "    .dataframe tbody tr th {\n",
       "        vertical-align: top;\n",
       "    }\n",
       "\n",
       "    .dataframe thead th {\n",
       "        text-align: right;\n",
       "    }\n",
       "</style>\n",
       "<table border=\"1\" class=\"dataframe\">\n",
       "  <thead>\n",
       "    <tr style=\"text-align: right;\">\n",
       "      <th></th>\n",
       "      <th>gp</th>\n",
       "      <th>min</th>\n",
       "      <th>pts</th>\n",
       "      <th>fgm</th>\n",
       "      <th>fga</th>\n",
       "      <th>fg</th>\n",
       "      <th>3p_made</th>\n",
       "      <th>3pa</th>\n",
       "      <th>3p</th>\n",
       "      <th>ftm</th>\n",
       "      <th>fta</th>\n",
       "      <th>ft</th>\n",
       "      <th>oreb</th>\n",
       "      <th>dreb</th>\n",
       "      <th>reb</th>\n",
       "      <th>ast</th>\n",
       "      <th>stl</th>\n",
       "      <th>blk</th>\n",
       "      <th>tov</th>\n",
       "      <th>target_5yrs</th>\n",
       "    </tr>\n",
       "  </thead>\n",
       "  <tbody>\n",
       "    <tr>\n",
       "      <th>count</th>\n",
       "      <td>1340.000000</td>\n",
       "      <td>1340.000000</td>\n",
       "      <td>1340.000000</td>\n",
       "      <td>1340.000000</td>\n",
       "      <td>1340.000000</td>\n",
       "      <td>1340.000000</td>\n",
       "      <td>1340.000000</td>\n",
       "      <td>1340.000000</td>\n",
       "      <td>1340.000000</td>\n",
       "      <td>1340.000000</td>\n",
       "      <td>1340.000000</td>\n",
       "      <td>1340.000000</td>\n",
       "      <td>1340.000000</td>\n",
       "      <td>1340.000000</td>\n",
       "      <td>1340.000000</td>\n",
       "      <td>1340.000000</td>\n",
       "      <td>1340.000000</td>\n",
       "      <td>1340.000000</td>\n",
       "      <td>1340.000000</td>\n",
       "      <td>1340.000000</td>\n",
       "    </tr>\n",
       "    <tr>\n",
       "      <th>mean</th>\n",
       "      <td>60.414179</td>\n",
       "      <td>17.624627</td>\n",
       "      <td>6.801493</td>\n",
       "      <td>2.629104</td>\n",
       "      <td>5.885299</td>\n",
       "      <td>44.169403</td>\n",
       "      <td>0.247612</td>\n",
       "      <td>0.779179</td>\n",
       "      <td>19.149627</td>\n",
       "      <td>1.297687</td>\n",
       "      <td>1.821940</td>\n",
       "      <td>70.300299</td>\n",
       "      <td>1.009403</td>\n",
       "      <td>2.025746</td>\n",
       "      <td>3.034478</td>\n",
       "      <td>1.550522</td>\n",
       "      <td>0.618507</td>\n",
       "      <td>0.368582</td>\n",
       "      <td>1.193582</td>\n",
       "      <td>0.620149</td>\n",
       "    </tr>\n",
       "    <tr>\n",
       "      <th>std</th>\n",
       "      <td>17.433992</td>\n",
       "      <td>8.307964</td>\n",
       "      <td>4.357545</td>\n",
       "      <td>1.683555</td>\n",
       "      <td>3.593488</td>\n",
       "      <td>6.137679</td>\n",
       "      <td>0.383688</td>\n",
       "      <td>1.061847</td>\n",
       "      <td>16.051861</td>\n",
       "      <td>0.987246</td>\n",
       "      <td>1.322984</td>\n",
       "      <td>10.578479</td>\n",
       "      <td>0.777119</td>\n",
       "      <td>1.360008</td>\n",
       "      <td>2.057774</td>\n",
       "      <td>1.471169</td>\n",
       "      <td>0.409759</td>\n",
       "      <td>0.429049</td>\n",
       "      <td>0.722541</td>\n",
       "      <td>0.485531</td>\n",
       "    </tr>\n",
       "    <tr>\n",
       "      <th>min</th>\n",
       "      <td>11.000000</td>\n",
       "      <td>3.100000</td>\n",
       "      <td>0.700000</td>\n",
       "      <td>0.300000</td>\n",
       "      <td>0.800000</td>\n",
       "      <td>23.800000</td>\n",
       "      <td>0.000000</td>\n",
       "      <td>0.000000</td>\n",
       "      <td>0.000000</td>\n",
       "      <td>0.000000</td>\n",
       "      <td>0.000000</td>\n",
       "      <td>0.000000</td>\n",
       "      <td>0.000000</td>\n",
       "      <td>0.200000</td>\n",
       "      <td>0.300000</td>\n",
       "      <td>0.000000</td>\n",
       "      <td>0.000000</td>\n",
       "      <td>0.000000</td>\n",
       "      <td>0.100000</td>\n",
       "      <td>0.000000</td>\n",
       "    </tr>\n",
       "    <tr>\n",
       "      <th>25%</th>\n",
       "      <td>47.000000</td>\n",
       "      <td>10.875000</td>\n",
       "      <td>3.700000</td>\n",
       "      <td>1.400000</td>\n",
       "      <td>3.300000</td>\n",
       "      <td>40.200000</td>\n",
       "      <td>0.000000</td>\n",
       "      <td>0.000000</td>\n",
       "      <td>0.000000</td>\n",
       "      <td>0.600000</td>\n",
       "      <td>0.900000</td>\n",
       "      <td>64.700000</td>\n",
       "      <td>0.400000</td>\n",
       "      <td>1.000000</td>\n",
       "      <td>1.500000</td>\n",
       "      <td>0.600000</td>\n",
       "      <td>0.300000</td>\n",
       "      <td>0.100000</td>\n",
       "      <td>0.700000</td>\n",
       "      <td>0.000000</td>\n",
       "    </tr>\n",
       "    <tr>\n",
       "      <th>50%</th>\n",
       "      <td>63.000000</td>\n",
       "      <td>16.100000</td>\n",
       "      <td>5.550000</td>\n",
       "      <td>2.100000</td>\n",
       "      <td>4.800000</td>\n",
       "      <td>44.100000</td>\n",
       "      <td>0.100000</td>\n",
       "      <td>0.300000</td>\n",
       "      <td>22.200000</td>\n",
       "      <td>1.000000</td>\n",
       "      <td>1.500000</td>\n",
       "      <td>71.250000</td>\n",
       "      <td>0.800000</td>\n",
       "      <td>1.700000</td>\n",
       "      <td>2.500000</td>\n",
       "      <td>1.100000</td>\n",
       "      <td>0.500000</td>\n",
       "      <td>0.200000</td>\n",
       "      <td>1.000000</td>\n",
       "      <td>1.000000</td>\n",
       "    </tr>\n",
       "    <tr>\n",
       "      <th>75%</th>\n",
       "      <td>77.000000</td>\n",
       "      <td>22.900000</td>\n",
       "      <td>8.800000</td>\n",
       "      <td>3.400000</td>\n",
       "      <td>7.500000</td>\n",
       "      <td>47.900000</td>\n",
       "      <td>0.400000</td>\n",
       "      <td>1.200000</td>\n",
       "      <td>32.500000</td>\n",
       "      <td>1.600000</td>\n",
       "      <td>2.300000</td>\n",
       "      <td>77.600000</td>\n",
       "      <td>1.400000</td>\n",
       "      <td>2.600000</td>\n",
       "      <td>4.000000</td>\n",
       "      <td>2.000000</td>\n",
       "      <td>0.800000</td>\n",
       "      <td>0.500000</td>\n",
       "      <td>1.500000</td>\n",
       "      <td>1.000000</td>\n",
       "    </tr>\n",
       "    <tr>\n",
       "      <th>max</th>\n",
       "      <td>82.000000</td>\n",
       "      <td>40.900000</td>\n",
       "      <td>28.200000</td>\n",
       "      <td>10.200000</td>\n",
       "      <td>19.800000</td>\n",
       "      <td>73.700000</td>\n",
       "      <td>2.300000</td>\n",
       "      <td>6.500000</td>\n",
       "      <td>100.000000</td>\n",
       "      <td>7.700000</td>\n",
       "      <td>10.200000</td>\n",
       "      <td>100.000000</td>\n",
       "      <td>5.300000</td>\n",
       "      <td>9.600000</td>\n",
       "      <td>13.900000</td>\n",
       "      <td>10.600000</td>\n",
       "      <td>2.500000</td>\n",
       "      <td>3.900000</td>\n",
       "      <td>4.400000</td>\n",
       "      <td>1.000000</td>\n",
       "    </tr>\n",
       "  </tbody>\n",
       "</table>\n",
       "</div>"
      ],
      "text/plain": [
       "                gp          min          pts          fgm          fga  \\\n",
       "count  1340.000000  1340.000000  1340.000000  1340.000000  1340.000000   \n",
       "mean     60.414179    17.624627     6.801493     2.629104     5.885299   \n",
       "std      17.433992     8.307964     4.357545     1.683555     3.593488   \n",
       "min      11.000000     3.100000     0.700000     0.300000     0.800000   \n",
       "25%      47.000000    10.875000     3.700000     1.400000     3.300000   \n",
       "50%      63.000000    16.100000     5.550000     2.100000     4.800000   \n",
       "75%      77.000000    22.900000     8.800000     3.400000     7.500000   \n",
       "max      82.000000    40.900000    28.200000    10.200000    19.800000   \n",
       "\n",
       "                fg      3p_made          3pa           3p          ftm  \\\n",
       "count  1340.000000  1340.000000  1340.000000  1340.000000  1340.000000   \n",
       "mean     44.169403     0.247612     0.779179    19.149627     1.297687   \n",
       "std       6.137679     0.383688     1.061847    16.051861     0.987246   \n",
       "min      23.800000     0.000000     0.000000     0.000000     0.000000   \n",
       "25%      40.200000     0.000000     0.000000     0.000000     0.600000   \n",
       "50%      44.100000     0.100000     0.300000    22.200000     1.000000   \n",
       "75%      47.900000     0.400000     1.200000    32.500000     1.600000   \n",
       "max      73.700000     2.300000     6.500000   100.000000     7.700000   \n",
       "\n",
       "               fta           ft         oreb         dreb          reb  \\\n",
       "count  1340.000000  1340.000000  1340.000000  1340.000000  1340.000000   \n",
       "mean      1.821940    70.300299     1.009403     2.025746     3.034478   \n",
       "std       1.322984    10.578479     0.777119     1.360008     2.057774   \n",
       "min       0.000000     0.000000     0.000000     0.200000     0.300000   \n",
       "25%       0.900000    64.700000     0.400000     1.000000     1.500000   \n",
       "50%       1.500000    71.250000     0.800000     1.700000     2.500000   \n",
       "75%       2.300000    77.600000     1.400000     2.600000     4.000000   \n",
       "max      10.200000   100.000000     5.300000     9.600000    13.900000   \n",
       "\n",
       "               ast          stl          blk          tov  target_5yrs  \n",
       "count  1340.000000  1340.000000  1340.000000  1340.000000  1340.000000  \n",
       "mean      1.550522     0.618507     0.368582     1.193582     0.620149  \n",
       "std       1.471169     0.409759     0.429049     0.722541     0.485531  \n",
       "min       0.000000     0.000000     0.000000     0.100000     0.000000  \n",
       "25%       0.600000     0.300000     0.100000     0.700000     0.000000  \n",
       "50%       1.100000     0.500000     0.200000     1.000000     1.000000  \n",
       "75%       2.000000     0.800000     0.500000     1.500000     1.000000  \n",
       "max      10.600000     2.500000     3.900000     4.400000     1.000000  "
      ]
     },
     "execution_count": 8,
     "metadata": {},
     "output_type": "execute_result"
    }
   ],
   "source": [
    "# Use .info() to display a summary of the DataFrame.\n",
    "\n",
    "data.describe()\n"
   ]
  },
  {
   "cell_type": "markdown",
   "metadata": {
    "id": "0ajEYod6B7QJ"
   },
   "source": [
    "**Question:** Based on the preceding tables, which columns are numerical and which columns are categorical?"
   ]
  },
  {
   "cell_type": "markdown",
   "metadata": {
    "id": "5a-RfDKYzjN1"
   },
   "source": [
    " [Write your response here. Double-click (or enter) to edit.]"
   ]
  },
  {
   "cell_type": "markdown",
   "metadata": {
    "id": "VtL_ZDZC1xgF"
   },
   "source": [
    "### Check for missing values"
   ]
  },
  {
   "cell_type": "markdown",
   "metadata": {},
   "source": [
    "Now, review the data to determine whether it contains any missing values. Begin by displaying the number of missing values in each column. After that, use isna() to check whether each value in the data is missing. Finally, use sum() to aggregate the number of missing values per column.\n"
   ]
  },
  {
   "cell_type": "code",
   "execution_count": 13,
   "metadata": {
    "id": "_EGgJ5k92KX_"
   },
   "outputs": [],
   "source": [
    "# Display the number of missing values in each column.\n",
    "# Check whether each value is missing.\n",
    "#Aggregate the number of missing values per column.\n",
    "\n",
    "data.isna().sum()\n",
    "data = data.dropna()"
   ]
  },
  {
   "cell_type": "markdown",
   "metadata": {
    "id": "qcLj6oPd2FVQ"
   },
   "source": [
    "**Question:** What do you observe about the missing values in the columns? "
   ]
  },
  {
   "cell_type": "markdown",
   "metadata": {
    "id": "MGjdyuaczjmX"
   },
   "source": [
    " [Write your response here. Double-click (or enter) to edit.]"
   ]
  },
  {
   "cell_type": "markdown",
   "metadata": {},
   "source": [
    "**Question:** Why is it important to check for missing values?"
   ]
  },
  {
   "cell_type": "markdown",
   "metadata": {},
   "source": [
    " Write your response here. Double-click (or enter) to edit."
   ]
  },
  {
   "cell_type": "markdown",
   "metadata": {
    "id": "MY0rAjlZAheh"
   },
   "source": [
    "## **Step 3: Statistical tests** \n",
    "\n"
   ]
  },
  {
   "cell_type": "markdown",
   "metadata": {
    "id": "v6VpTiBeGvyO"
   },
   "source": [
    "Next, use a statistical technique to check the class balance in the data. To understand how balanced the dataset is in terms of class, display the percentage of values that belong to each class in the target column. In this context, class 1 indicates an NBA career duration of at least five years, while class 0 indicates an NBA career duration of less than five years."
   ]
  },
  {
   "cell_type": "code",
   "execution_count": 22,
   "metadata": {
    "id": "gUEgzQW_6oMV"
   },
   "outputs": [
    {
     "name": "stdout",
     "output_type": "stream",
     "text": [
      "count of players with career greater than 5 years 831\n",
      "count of players with career less than 5 years 509\n",
      "Percentage of players with 5+ years: 62.01492537313433\n",
      "Percentage of players with less than 5 years: 37.985074626865675\n"
     ]
    }
   ],
   "source": [
    "# Display percentage (%) of values for each class (1, 0) represented in the target column of this dataset.\n",
    "\n",
    "count_career_greater = data['target_5yrs'].sum()\n",
    "count_career_less = data.shape[0] - count_career_greater\n",
    "greater_career_percentage = (count_career_greater/data.shape[0]) * 100\n",
    "less_career_percentage = (count_career_less/data.shape[0]) * 100\n",
    "\n",
    "print('count of players with career greater than 5 years ' + str(count_career_greater))\n",
    "print('count of players with career less than 5 years ' + str(count_career_less))\n",
    "print('Percentage of players with 5+ years: ' + str(greater_career_percentage))\n",
    "print('Percentage of players with less than 5 years: ' + str(less_career_percentage))"
   ]
  },
  {
   "cell_type": "markdown",
   "metadata": {
    "id": "N4ITIR9Jlpbr"
   },
   "source": [
    "<details>\n",
    "<summary><h4><strong>Hint 1</strong></h4></summary>\n",
    "\n",
    "In `pandas`, `value_counts(normalize=True)` can be used to calculate the frequency of each distinct value in a specific column of a DataFrame.  \n",
    "</details>"
   ]
  },
  {
   "cell_type": "markdown",
   "metadata": {
    "id": "2xHH7INqlpbt"
   },
   "source": [
    "<details>\n",
    "<summary><h4><strong>Hint 2</strong></h4></summary>\n",
    "\n",
    "After `value_counts(normalize=True)`, multipling by `100` converts the frequencies into percentages (%).\n",
    "</details>"
   ]
  },
  {
   "cell_type": "markdown",
   "metadata": {
    "id": "uMcdNVQW8K2D"
   },
   "source": [
    "**Question:** What do you observe about the class balance in the target column?"
   ]
  },
  {
   "cell_type": "markdown",
   "metadata": {
    "id": "eDXjxG94zkZO"
   },
   "source": [
    " [Write your response here. Double-click (or enter) to edit.]"
   ]
  },
  {
   "cell_type": "markdown",
   "metadata": {},
   "source": [
    "**Question:** Why is it important to check class balance?"
   ]
  },
  {
   "cell_type": "markdown",
   "metadata": {},
   "source": [
    "Write your response here. Double-click (or enter) to edit."
   ]
  },
  {
   "cell_type": "markdown",
   "metadata": {
    "id": "qgV_6xAQAvgg"
   },
   "source": [
    "## **Step 4: Results and evaluation** \n",
    "\n",
    "\n",
    "Now, perform feature engineering, with the goal of identifying and creating features that will serve as useful predictors for the target variable, `target_5yrs`. "
   ]
  },
  {
   "cell_type": "markdown",
   "metadata": {
    "id": "r-UHtsTnA5kE"
   },
   "source": [
    "### Feature selection"
   ]
  },
  {
   "cell_type": "markdown",
   "metadata": {
    "id": "atQDf16fK4in"
   },
   "source": [
    "The following table contains descriptions of the data in each column:\n",
    "\n",
    "<center>\n",
    "\n",
    "|Column Name|Column Description|\n",
    "|:---|:-------|\n",
    "|`name`|Name of NBA player|\n",
    "|`gp`|Number of games played|\n",
    "|`min`|Number of minutes played|\n",
    "|`pts`|Average number of points per game|\n",
    "|`fgm`|Average number of field goals made per game|\n",
    "|`fga`|Average number of field goal attempts per game|\n",
    "|`fg`|Average percent of field goals made per game|\n",
    "|`3p_made`|Average number of three-point field goals made per game|\n",
    "|`3pa`|Average number of three-point field goal attempts per game|\n",
    "|`3p`|Average percent of three-point field goals made per game|\n",
    "|`ftm`|Average number of free throws made per game|\n",
    "|`fta`|Average number of free throw attempts per game|\n",
    "|`ft`|Average percent of free throws made per game|\n",
    "|`oreb`|Average number of offensive rebounds per game|\n",
    "|`dreb`|Average number of defensive rebounds per game|\n",
    "|`reb`|Average number of rebounds per game|\n",
    "|`ast`|Average number of assists per game|\n",
    "|`stl`|Average number of steals per game|\n",
    "|`blk`|Average number of blocks per game|\n",
    "|`tov`|Average number of turnovers per game|\n",
    "|`target_5yrs`|1 if career duration >= 5 yrs, 0 otherwise|\n",
    "\n",
    "</center>"
   ]
  },
  {
   "cell_type": "markdown",
   "metadata": {
    "id": "uyUtq03NKe69"
   },
   "source": [
    "**Question:** Which columns would you select and avoid selecting as features, and why? Keep in mind the goal is to identify features that will serve as useful predictors for the target variable, `target_5yrs`. "
   ]
  },
  {
   "cell_type": "markdown",
   "metadata": {
    "id": "Lsur6i-azlnT"
   },
   "source": [
    " [Write your response here. Double-click (or enter) to edit.]"
   ]
  },
  {
   "cell_type": "markdown",
   "metadata": {
    "id": "f0EgC-r_X_gk"
   },
   "source": [
    "Next, select the columns you want to proceed with. Make sure to include the target column, `target_5yrs`. Display the first few rows to confirm they are as expected."
   ]
  },
  {
   "cell_type": "code",
   "execution_count": 26,
   "metadata": {
    "id": "jeLHjMh_XwsU"
   },
   "outputs": [
    {
     "data": {
      "text/html": [
       "<div>\n",
       "<style scoped>\n",
       "    .dataframe tbody tr th:only-of-type {\n",
       "        vertical-align: middle;\n",
       "    }\n",
       "\n",
       "    .dataframe tbody tr th {\n",
       "        vertical-align: top;\n",
       "    }\n",
       "\n",
       "    .dataframe thead th {\n",
       "        text-align: right;\n",
       "    }\n",
       "</style>\n",
       "<table border=\"1\" class=\"dataframe\">\n",
       "  <thead>\n",
       "    <tr style=\"text-align: right;\">\n",
       "      <th></th>\n",
       "      <th>gp</th>\n",
       "      <th>pts</th>\n",
       "      <th>reb</th>\n",
       "      <th>ast</th>\n",
       "      <th>target_5yrs</th>\n",
       "    </tr>\n",
       "  </thead>\n",
       "  <tbody>\n",
       "    <tr>\n",
       "      <th>0</th>\n",
       "      <td>36</td>\n",
       "      <td>7.4</td>\n",
       "      <td>4.1</td>\n",
       "      <td>1.9</td>\n",
       "      <td>0</td>\n",
       "    </tr>\n",
       "    <tr>\n",
       "      <th>1</th>\n",
       "      <td>35</td>\n",
       "      <td>7.2</td>\n",
       "      <td>2.4</td>\n",
       "      <td>3.7</td>\n",
       "      <td>0</td>\n",
       "    </tr>\n",
       "    <tr>\n",
       "      <th>2</th>\n",
       "      <td>74</td>\n",
       "      <td>5.2</td>\n",
       "      <td>2.2</td>\n",
       "      <td>1.0</td>\n",
       "      <td>0</td>\n",
       "    </tr>\n",
       "    <tr>\n",
       "      <th>3</th>\n",
       "      <td>58</td>\n",
       "      <td>5.7</td>\n",
       "      <td>1.9</td>\n",
       "      <td>0.8</td>\n",
       "      <td>1</td>\n",
       "    </tr>\n",
       "    <tr>\n",
       "      <th>4</th>\n",
       "      <td>48</td>\n",
       "      <td>4.5</td>\n",
       "      <td>2.5</td>\n",
       "      <td>0.3</td>\n",
       "      <td>1</td>\n",
       "    </tr>\n",
       "  </tbody>\n",
       "</table>\n",
       "</div>"
      ],
      "text/plain": [
       "   gp  pts  reb  ast  target_5yrs\n",
       "0  36  7.4  4.1  1.9            0\n",
       "1  35  7.2  2.4  3.7            0\n",
       "2  74  5.2  2.2  1.0            0\n",
       "3  58  5.7  1.9  0.8            1\n",
       "4  48  4.5  2.5  0.3            1"
      ]
     },
     "execution_count": 26,
     "metadata": {},
     "output_type": "execute_result"
    }
   ],
   "source": [
    "# Select the columns to proceed with and save the DataFrame in new variable `selected_data`.\n",
    "# Include the target column, `target_5yrs`.\n",
    "\n",
    "selected_data = data[['gp', 'pts', 'reb', 'ast', 'target_5yrs']]\n",
    "\n",
    "\n",
    "# Display the first few rows.\n",
    "\n",
    "selected_data.head()\n",
    "\n"
   ]
  },
  {
   "cell_type": "markdown",
   "metadata": {
    "id": "eec8mVaZitRl"
   },
   "source": [
    "<details>\n",
    "<summary><h4><strong>Hint 1</strong></h4></summary>\n",
    "\n",
    "Refer to the materials about feature selection and selecting a subset of a DataFrame.\n",
    "</details>"
   ]
  },
  {
   "cell_type": "markdown",
   "metadata": {
    "id": "IGVBka7oitRn"
   },
   "source": [
    "<details>\n",
    "<summary><h4><strong>Hint 2</strong></h4></summary>\n",
    "\n",
    "Use two pairs of square brackets, and place the names of the columns you want to select inside the innermost brackets. \n",
    "\n",
    "</details>"
   ]
  },
  {
   "cell_type": "markdown",
   "metadata": {
    "id": "BB6uE5RSitRn"
   },
   "source": [
    "<details>\n",
    "<summary><h4><strong>Hint 3</strong></h4></summary>\n",
    "\n",
    "There is a function in `pandas` that can be used to display the first few rows of a DataFrame. Make sure to specify the column names with spelling that matches what's in the data. Use quotes to represent each column name as a string. \n",
    "</details>"
   ]
  },
  {
   "cell_type": "markdown",
   "metadata": {
    "id": "m9SD-zhXCLSm"
   },
   "source": [
    "### Feature transformation"
   ]
  },
  {
   "cell_type": "markdown",
   "metadata": {
    "id": "UQwsbcQHWeX1"
   },
   "source": [
    "An important aspect of feature transformation is feature encoding. If there are categorical columns that you would want to use as features, those columns should be transformed to be numerical. This technique is also known as feature encoding."
   ]
  },
  {
   "cell_type": "markdown",
   "metadata": {
    "id": "IMm2PPbvOUHb"
   },
   "source": [
    "**Question:** Why is feature transformation important to consider? Are there any transformations necessary for the features you want to use?"
   ]
  },
  {
   "cell_type": "markdown",
   "metadata": {
    "id": "Kg-1y3f2zmrg"
   },
   "source": [
    " [Write your response here. Double-click (or enter) to edit.]"
   ]
  },
  {
   "cell_type": "markdown",
   "metadata": {
    "id": "yMK4zXxQCNYH"
   },
   "source": [
    "### Feature extraction"
   ]
  },
  {
   "cell_type": "markdown",
   "metadata": {
    "id": "LwU2VgiyfLg7"
   },
   "source": [
    "Display the first few rows containing containing descriptions of the data for reference. The table is as follows:\n",
    "\n",
    "<center>\n",
    "\n",
    "|Column Name|Column Description|\n",
    "|:---|:-------|\n",
    "|`name`|Name of NBA player|\n",
    "|`gp`|Number of games played|\n",
    "|`min`|Number of minutes played per game|\n",
    "|`pts`|Average number of points per game|\n",
    "|`fgm`|Average number of field goals made per game|\n",
    "|`fga`|Average number of field goal attempts per game|\n",
    "|`fg`|Average percent of field goals made per game|\n",
    "|`3p_made`|Average number of three-point field goals made per game|\n",
    "|`3pa`|Average number of three-point field goal attempts per game|\n",
    "|`3p`|Average percent of three-point field goals made per game|\n",
    "|`ftm`|Average number of free throws made per game|\n",
    "|`fta`|Average number of free throw attempts per game|\n",
    "|`ft`|Average percent of free throws made per game|\n",
    "|`oreb`|Average number of offensive rebounds per game|\n",
    "|`dreb`|Average number of defensive rebounds per game|\n",
    "|`reb`|Average number of rebounds per game|\n",
    "|`ast`|Average number of assists per game|\n",
    "|`stl`|Average number of steals per game|\n",
    "|`blk`|Average number of blocks per game|\n",
    "|`tov`|Average number of turnovers per game|\n",
    "|`target_5yrs`|1 if career duration >= 5 yrs, 0 otherwise|\n",
    "\n",
    "</center>"
   ]
  },
  {
   "cell_type": "code",
   "execution_count": 27,
   "metadata": {
    "id": "TImr9RUzfNNk"
   },
   "outputs": [
    {
     "data": {
      "text/html": [
       "<div>\n",
       "<style scoped>\n",
       "    .dataframe tbody tr th:only-of-type {\n",
       "        vertical-align: middle;\n",
       "    }\n",
       "\n",
       "    .dataframe tbody tr th {\n",
       "        vertical-align: top;\n",
       "    }\n",
       "\n",
       "    .dataframe thead th {\n",
       "        text-align: right;\n",
       "    }\n",
       "</style>\n",
       "<table border=\"1\" class=\"dataframe\">\n",
       "  <thead>\n",
       "    <tr style=\"text-align: right;\">\n",
       "      <th></th>\n",
       "      <th>gp</th>\n",
       "      <th>pts</th>\n",
       "      <th>reb</th>\n",
       "      <th>ast</th>\n",
       "      <th>target_5yrs</th>\n",
       "    </tr>\n",
       "  </thead>\n",
       "  <tbody>\n",
       "    <tr>\n",
       "      <th>0</th>\n",
       "      <td>36</td>\n",
       "      <td>7.4</td>\n",
       "      <td>4.1</td>\n",
       "      <td>1.9</td>\n",
       "      <td>0</td>\n",
       "    </tr>\n",
       "    <tr>\n",
       "      <th>1</th>\n",
       "      <td>35</td>\n",
       "      <td>7.2</td>\n",
       "      <td>2.4</td>\n",
       "      <td>3.7</td>\n",
       "      <td>0</td>\n",
       "    </tr>\n",
       "    <tr>\n",
       "      <th>2</th>\n",
       "      <td>74</td>\n",
       "      <td>5.2</td>\n",
       "      <td>2.2</td>\n",
       "      <td>1.0</td>\n",
       "      <td>0</td>\n",
       "    </tr>\n",
       "    <tr>\n",
       "      <th>3</th>\n",
       "      <td>58</td>\n",
       "      <td>5.7</td>\n",
       "      <td>1.9</td>\n",
       "      <td>0.8</td>\n",
       "      <td>1</td>\n",
       "    </tr>\n",
       "    <tr>\n",
       "      <th>4</th>\n",
       "      <td>48</td>\n",
       "      <td>4.5</td>\n",
       "      <td>2.5</td>\n",
       "      <td>0.3</td>\n",
       "      <td>1</td>\n",
       "    </tr>\n",
       "  </tbody>\n",
       "</table>\n",
       "</div>"
      ],
      "text/plain": [
       "   gp  pts  reb  ast  target_5yrs\n",
       "0  36  7.4  4.1  1.9            0\n",
       "1  35  7.2  2.4  3.7            0\n",
       "2  74  5.2  2.2  1.0            0\n",
       "3  58  5.7  1.9  0.8            1\n",
       "4  48  4.5  2.5  0.3            1"
      ]
     },
     "execution_count": 27,
     "metadata": {},
     "output_type": "execute_result"
    }
   ],
   "source": [
    "# Display the first few rows of `selected_data` for reference.\n",
    "\n",
    "selected_data.head()\n",
    "\n"
   ]
  },
  {
   "cell_type": "markdown",
   "metadata": {
    "id": "c5GvdO_Ddgcv"
   },
   "source": [
    "**Question:** Which columns lend themselves to feature extraction?"
   ]
  },
  {
   "cell_type": "markdown",
   "metadata": {
    "id": "XrDQ4Qzezoo2"
   },
   "source": [
    " [Write your response here. Double-click (or enter) to edit.]"
   ]
  },
  {
   "cell_type": "markdown",
   "metadata": {
    "id": "TzdzdImXmlVV"
   },
   "source": [
    "Extract two features that you think would help predict `target_5yrs`. Then, create a new variable named 'extracted_data' that contains features from 'selected_data', as well as the features being extracted."
   ]
  },
  {
   "cell_type": "code",
   "execution_count": 28,
   "metadata": {
    "id": "-oKr7ZPumP4X"
   },
   "outputs": [],
   "source": [
    "# Extract two features that would help predict target_5yrs.\n",
    "# Create a new variable named `extracted_data`.\n",
    "\n",
    "extracted_data = selected_data[['gp', 'pts', 'reb', 'target_5yrs']]\n",
    "\n",
    "\n",
    "\n"
   ]
  },
  {
   "cell_type": "markdown",
   "metadata": {
    "id": "nBm31_L4stiM"
   },
   "source": [
    "<details>\n",
    "<summary><h4><strong>Hint 1</strong></h4></summary>\n",
    "\n",
    "Refer to the materials about feature extraction.\n",
    "</details>"
   ]
  },
  {
   "cell_type": "markdown",
   "metadata": {
    "id": "zfJjVoNnstiO"
   },
   "source": [
    "<details>\n",
    "<summary><h4><strong>Hint 2</strong></h4></summary>\n",
    "\n",
    "Use the function `copy()` to make a copy of a DataFrame. To access a specific column from a DataFrame, use a pair of square brackets and place the name of the column as a string inside the brackets.\n",
    "\n",
    "</details>"
   ]
  },
  {
   "cell_type": "markdown",
   "metadata": {
    "id": "5JK2XAKJstiP"
   },
   "source": [
    "<details>\n",
    "<summary><h4><strong>Hint 3</strong></h4></summary>\n",
    "\n",
    "Use a pair of square brackets to create a new column in a DataFrame. The columns in DataFrames are series objects, which support elementwise operations such as multiplication and division. Be sure the column names referenced in your code match the spelling of what's in the DataFrame.\n",
    "</details>"
   ]
  },
  {
   "cell_type": "markdown",
   "metadata": {
    "id": "_HSGCXKZt61x"
   },
   "source": [
    "Now, to prepare for the Naive Bayes model that you will build in a later lab, clean the extracted data and ensure ensure it is concise. Naive Bayes involves an assumption that features are independent of each other given the class. In order to satisfy that criteria, if certain features are aggregated to yield new features, it may be necessary to remove those original features. Therefore, drop the columns that were used to extract new features.\n",
    "\n",
    "**Note:** There are other types of models that do not involve independence assumptions, so this would not be required in those instances. In fact, keeping the original features may be beneficial."
   ]
  },
  {
   "cell_type": "code",
   "execution_count": null,
   "metadata": {
    "id": "9kF4nRy5r1DV"
   },
   "outputs": [],
   "source": [
    "# Remove any columns from `extracted_data` that are no longer needed.\n",
    "\n",
    "### YOUR CODE HERE ###\n",
    "\n",
    "\n",
    "# Display the first few rows of `extracted_data` to ensure that column drops took place.\n",
    "\n",
    "### YOUR CODE HERE ###\n",
    "\n"
   ]
  },
  {
   "cell_type": "markdown",
   "metadata": {
    "id": "zXgV7ogJutbC"
   },
   "source": [
    "<details>\n",
    "<summary><h4><strong>Hint 1</strong></h4></summary>\n",
    "\n",
    "Refer to the materials about feature extraction.\n",
    "</details>"
   ]
  },
  {
   "cell_type": "markdown",
   "metadata": {
    "id": "yy5eHxzrutbD"
   },
   "source": [
    "<details>\n",
    "<summary><h4><strong>Hint 2</strong></h4></summary>\n",
    "\n",
    "There are functions in the `pandas` library that remove specific columns from a DataFrame and that display the first few rows of a DataFrame.\n",
    "</details>"
   ]
  },
  {
   "cell_type": "markdown",
   "metadata": {
    "id": "V7pdI7hqutbE"
   },
   "source": [
    "<details>\n",
    "<summary><h4><strong>Hint 3</strong></h4></summary>\n",
    "\n",
    "Use the `drop()` function and pass in a list of the names of the columns you want to remove. By default, calling this function will result in a new DataFrame that reflects the changes you made. The original DataFrame is not automatically altered. You can reassign `extracted_data` to the result, in order to update it. \n",
    "\n",
    "Use the `head()` function to display the first few rows of a DataFrame.\n",
    "</details>"
   ]
  },
  {
   "cell_type": "markdown",
   "metadata": {
    "id": "T-_ViHlcwlik"
   },
   "source": [
    "Next, export the extracted data as a new .csv file. You will use this in a later lab. "
   ]
  },
  {
   "cell_type": "code",
   "execution_count": 29,
   "metadata": {
    "id": "gZ_DdQx1xIaN"
   },
   "outputs": [
    {
     "data": {
      "text/plain": [
       "',gp,pts,reb,target_5yrs\\n0,36,7.4,4.1,0\\n1,35,7.2,2.4,0\\n2,74,5.2,2.2,0\\n3,58,5.7,1.9,1\\n4,48,4.5,2.5,1\\n5,75,3.7,0.8,0\\n6,62,6.6,2.0,1\\n7,48,5.7,1.7,1\\n8,65,2.4,0.8,0\\n9,42,3.7,1.1,0\\n10,35,2.3,0.9,0\\n11,40,3.6,1.2,1\\n12,27,1.3,2.0,1\\n13,45,5.6,2.0,0\\n14,44,2.4,1.4,1\\n15,40,2.6,0.4,1\\n16,49,2.1,1.2,0\\n17,41,1.7,0.3,0\\n18,82,19.2,11.0,0\\n19,82,19.2,11.0,1\\n20,80,14.3,8.0,1\\n21,82,13.3,5.1,1\\n22,76,10.6,2.9,1\\n23,61,12.0,3.1,0\\n24,32,6.3,5.2,0\\n25,76,10.4,5.9,1\\n26,52,9.3,1.9,0\\n27,76,8.8,5.1,1\\n28,78,10.1,3.0,0\\n29,51,8.4,5.4,1\\n30,64,6.2,6.4,1\\n31,55,10.4,6.1,1\\n32,82,7.4,2.0,1\\n33,48,9.1,5.7,1\\n34,34,4.3,1.4,0\\n35,42,8.5,2.0,1\\n36,82,5.5,1.7,1\\n37,64,7.0,2.0,1\\n38,80,7.4,4.2,1\\n39,77,5.6,3.8,1\\n40,55,4.1,1.5,0\\n41,48,5.1,1.7,0\\n42,51,5.0,1.5,0\\n43,51,3.9,2.1,0\\n44,72,4.6,1.3,1\\n45,69,3.6,2.7,1\\n46,54,5.7,3.4,1\\n47,24,4.1,0.7,0\\n48,50,4.1,1.1,1\\n49,56,3.4,1.2,1\\n50,67,3.7,0.7,0\\n51,50,2.5,0.8,1\\n52,45,2.7,1.5,1\\n53,38,3.4,0.9,0\\n54,42,2.8,1.9,0\\n55,54,3.2,1.3,0\\n56,35,4.0,1.2,0\\n57,37,2.8,1.1,0\\n58,46,2.6,0.8,0\\n59,51,2.2,0.8,0\\n60,40,2.2,1.2,0\\n61,19,1.6,1.0,0\\n62,36,1.3,0.6,0\\n63,79,18.0,8.8,1\\n64,55,3.4,1.2,0\\n65,74,18.4,10.3,1\\n66,64,14.3,2.8,0\\n67,82,15.7,2.9,1\\n68,82,7.2,3.0,1\\n69,81,7.1,7.9,1\\n70,76,12.0,3.4,1\\n71,82,8.7,2.2,0\\n72,82,8.7,2.2,1\\n73,49,1.9,0.8,0\\n74,49,1.9,0.8,1\\n75,82,11.0,3.2,1\\n76,76,6.9,5.1,1\\n77,67,14.1,1.8,1\\n78,70,8.8,2.1,0\\n79,81,8.6,3.5,1\\n80,33,7.2,3.3,1\\n81,58,5.3,5.6,0\\n82,70,7.2,1.7,0\\n83,82,4.9,1.9,1\\n84,62,6.9,1.9,0\\n85,78,6.2,4.3,0\\n86,73,5.5,4.8,1\\n87,74,5.3,5.2,1\\n88,76,6.7,2.9,0\\n89,55,5.7,4.2,1\\n90,47,5.6,1.5,0\\n91,37,8.1,2.1,1\\n92,62,4.3,2.7,0\\n93,62,3.9,1.0,0\\n94,51,6.9,2.0,0\\n95,36,3.9,1.4,1\\n96,74,3.1,1.9,1\\n97,63,8.2,2.4,1\\n98,33,2.2,2.2,0\\n99,54,4.4,2.8,1\\n100,73,3.8,1.1,0\\n101,15,3.6,3.0,0\\n102,64,3.7,1.1,1\\n103,56,3.4,0.8,0\\n104,64,3.2,1.2,0\\n105,68,3.1,0.8,1\\n106,47,2.9,1.4,0\\n107,52,3.5,2.1,1\\n108,64,3.7,1.0,0\\n109,34,2.9,1.9,0\\n110,42,3.8,2.9,1\\n111,50,4.5,1.3,1\\n112,52,2.8,1.8,1\\n113,75,2.9,1.7,0\\n114,39,2.2,1.7,1\\n115,51,2.5,1.9,1\\n116,52,1.3,1.5,0\\n117,39,1.5,1.2,1\\n118,82,24.3,12.0,1\\n119,31,3.4,1.4,0\\n120,79,14.7,3.9,0\\n121,79,14.7,3.9,1\\n122,82,11.1,8.4,1\\n123,82,11.4,2.6,1\\n124,81,14.3,2.5,1\\n125,80,12.7,5.8,1\\n126,77,13.6,4.6,1\\n127,77,13.6,4.6,0\\n128,50,10.1,2.8,1\\n129,81,10.0,3.7,1\\n130,82,8.9,3.1,1\\n131,50,3.7,2.9,0\\n132,81,11.5,3.9,1\\n133,82,8.9,4.7,1\\n134,81,9.7,1.6,1\\n135,69,6.3,2.3,0\\n136,82,9.1,3.8,1\\n137,55,6.1,3.4,0\\n138,75,7.3,3.1,1\\n139,72,8.7,5.0,0\\n140,79,8.0,1.9,1\\n141,25,3.3,3.4,0\\n142,81,5.6,1.3,1\\n143,63,4.7,3.6,1\\n144,81,6.5,4.3,1\\n145,61,5.3,2.8,1\\n146,43,4.6,1.2,0\\n147,55,4.3,3.1,1\\n148,59,4.1,2.1,0\\n149,66,5.9,2.1,1\\n150,70,16.7,6.2,0\\n151,77,3.5,0.7,0\\n152,37,3.9,0.9,0\\n153,67,3.1,0.9,1\\n154,42,1.9,2.9,0\\n155,50,5.2,1.5,0\\n156,65,5.0,1.5,0\\n157,65,5.0,1.5,1\\n158,82,6.9,5.9,0\\n159,82,6.9,5.9,1\\n160,44,2.7,1.0,1\\n161,36,4.3,1.4,0\\n162,60,2.9,1.2,1\\n163,60,2.9,1.2,1\\n164,60,2.9,1.2,0\\n165,71,16.3,6.5,1\\n166,71,16.3,6.5,1\\n167,71,16.3,6.5,0\\n168,34,3.5,0.8,1\\n169,34,3.5,0.8,1\\n170,34,3.5,0.8,0\\n171,45,4.5,2.4,0\\n172,70,12.8,3.0,0\\n173,57,2.0,1.2,0\\n174,52,2.6,1.3,1\\n175,51,1.9,2.1,1\\n176,35,3.3,0.7,0\\n177,48,1.1,0.6,0\\n178,21,0.7,1.1,0\\n179,36,2.0,0.6,0\\n180,21,2.2,1.1,0\\n181,79,22.0,5.9,1\\n182,81,18.6,5.1,1\\n183,80,13.8,4.1,0\\n184,79,15.1,2.8,1\\n185,79,13.8,3.3,1\\n186,82,11.9,6.7,1\\n187,75,16.9,2.5,1\\n188,82,8.6,4.6,1\\n189,76,14.1,5.2,1\\n190,71,11.9,3.4,1\\n191,79,11.7,2.6,1\\n192,82,8.8,2.9,0\\n193,54,8.6,3.9,1\\n194,55,8.0,5.2,0\\n195,64,11.0,3.1,0\\n196,71,6.4,2.2,0\\n197,36,5.7,2.5,0\\n198,65,7.4,4.5,0\\n199,80,7.1,2.1,1\\n200,32,6.8,1.5,0\\n201,81,9.3,3.2,0\\n202,80,11.5,2.3,1\\n203,71,5.6,2.3,1\\n204,81,8.9,2.0,1\\n205,82,5.2,1.1,1\\n206,24,5.1,2.1,0\\n207,65,5.5,3.6,0\\n208,56,5.0,3.2,1\\n209,36,1.6,1.9,1\\n210,51,4.8,2.2,0\\n211,75,4.3,2.7,1\\n212,54,4.8,3.7,1\\n213,62,4.1,2.1,1\\n214,82,1.7,1.1,1\\n215,53,2.2,0.5,0\\n216,47,2.9,0.9,0\\n217,36,4.1,1.1,1\\n218,62,2.6,2.4,1\\n219,37,3.5,1.3,0\\n220,60,3.1,2.6,1\\n221,51,2.2,0.9,1\\n222,42,4.0,1.3,1\\n223,33,3.8,1.1,1\\n224,33,3.8,1.1,0\\n225,57,3.3,2.2,1\\n226,57,3.3,2.2,0\\n227,24,5.3,1.8,0\\n228,77,6.0,3.2,0\\n229,72,2.5,1.3,0\\n230,49,2.6,0.6,1\\n231,46,3.3,1.1,0\\n232,43,1.6,0.6,1\\n233,35,1.9,0.7,0\\n234,51,2.2,1.4,1\\n235,41,2.4,1.0,1\\n236,82,13.6,4.8,1\\n237,61,13.8,2.3,1\\n238,58,7.2,2.6,0\\n239,55,14.8,7.9,1\\n240,67,12.4,3.4,1\\n241,42,7.6,4.5,1\\n242,35,10.4,3.4,1\\n243,35,10.4,3.4,1\\n244,82,11.7,6.3,1\\n245,80,9.2,2.4,1\\n246,81,7.7,5.5,1\\n247,82,10.0,2.3,1\\n248,61,9.6,2.3,1\\n249,66,8.6,4.0,1\\n250,59,8.0,3.7,0\\n251,79,7.9,3.8,1\\n252,82,8.5,4.0,1\\n253,79,5.0,1.7,1\\n254,78,8.1,4.2,1\\n255,24,5.2,1.1,0\\n256,39,5.7,4.5,1\\n257,75,5.6,2.9,0\\n258,79,3.6,3.4,1\\n259,58,2.7,1.0,0\\n260,49,5.3,0.6,0\\n261,70,4.2,2.0,1\\n262,40,3.8,0.7,0\\n263,55,3.1,2.6,1\\n264,59,2.5,0.7,0\\n265,44,2.4,0.6,0\\n266,49,4.5,1.3,1\\n267,44,1.1,1.9,0\\n268,41,1.9,1.7,0\\n269,36,1.3,0.4,1\\n270,45,6.2,1.8,0\\n271,50,1.7,1.0,0\\n272,82,22.9,4.8,1\\n273,82,18.8,8.3,1\\n274,80,14.6,7.9,1\\n275,80,15.7,8.1,1\\n276,71,5.3,4.7,1\\n277,68,10.4,5.0,1\\n278,63,15.9,4.9,0\\n279,78,9.2,4.7,1\\n280,80,5.9,2.0,0\\n281,80,8.5,4.7,1\\n282,77,8.8,2.0,1\\n283,81,10.3,2.1,1\\n284,50,6.7,4.9,1\\n285,80,5.3,2.3,1\\n286,75,7.5,7.1,1\\n287,67,6.9,1.7,1\\n288,82,5.3,3.6,1\\n289,64,7.9,3.3,1\\n290,68,6.6,4.2,1\\n291,77,6.5,4.3,1\\n292,68,6.6,3.5,1\\n293,77,5.2,3.5,1\\n294,66,4.4,2.9,1\\n295,67,4.6,2.6,0\\n296,65,5.4,3.4,1\\n297,65,5.0,1.6,0\\n298,62,4.2,3.5,1\\n299,64,5.5,1.7,0\\n300,59,5.6,2.9,1\\n301,70,7.4,4.4,0\\n302,62,5.8,1.7,1\\n303,35,3.8,2.9,0\\n304,42,3.3,0.8,0\\n305,59,5.0,1.2,1\\n306,45,4.2,1.7,0\\n307,67,4.9,1.2,1\\n308,60,3.8,1.5,1\\n309,41,3.1,1.4,0\\n310,62,3.7,1.9,1\\n311,43,3.4,1.0,0\\n312,53,2.1,2.2,0\\n313,54,2.3,0.6,0\\n314,50,20.0,9.0,0\\n315,82,17.1,8.0,1\\n316,81,14.9,8.9,1\\n317,81,14.7,7.2,1\\n318,79,11.1,7.6,1\\n319,55,14.0,2.1,1\\n320,81,12.5,2.6,1\\n321,82,9.4,1.5,1\\n322,82,6.0,4.3,0\\n323,77,9.6,8.6,1\\n324,82,8.3,5.7,1\\n325,58,7.4,6.1,0\\n326,80,8.5,3.9,1\\n327,82,6.4,4.6,1\\n328,71,4.7,4.1,1\\n329,64,7.7,4.3,1\\n330,79,7.8,1.6,1\\n331,79,7.1,1.5,1\\n332,34,7.0,3.3,0\\n333,71,4.9,1.9,0\\n334,78,4.7,3.1,0\\n335,76,5.5,1.7,0\\n336,80,5.2,4.7,1\\n337,68,5.2,1.7,0\\n338,64,4.1,3.8,0\\n339,64,4.1,3.8,0\\n340,53,2.8,2.8,0\\n341,66,5.0,1.5,0\\n342,77,4.5,1.6,0\\n343,45,3.7,1.0,0\\n344,45,3.5,0.7,0\\n345,64,4.3,1.0,1\\n346,55,3.7,1.5,1\\n347,57,4.5,1.0,1\\n348,36,3.4,1.1,0\\n349,57,3.2,0.8,1\\n350,48,3.2,2.0,1\\n351,75,2.8,1.4,0\\n352,82,28.2,6.5,1\\n353,80,14.1,4.0,1\\n354,76,10.0,8.6,1\\n355,82,14.0,8.6,1\\n356,82,11.0,7.4,1\\n357,80,8.8,2.1,1\\n358,79,10.6,5.7,1\\n359,82,12.8,6.8,1\\n360,82,9.3,6.4,1\\n361,75,7.1,5.2,1\\n362,79,9.2,3.4,1\\n363,78,9.3,5.1,1\\n364,78,8.4,5.1,1\\n365,78,8.4,5.1,0\\n366,78,8.4,5.1,0\\n367,29,3.7,1.4,1\\n368,29,3.7,1.4,0\\n369,29,3.7,1.4,0\\n370,72,5.8,3.0,1\\n371,82,6.6,3.5,1\\n372,62,8.0,3.7,1\\n373,78,7.1,1.9,1\\n374,75,6.8,4.4,1\\n375,82,5.6,1.3,1\\n376,74,7.1,1.5,0\\n377,74,4.4,1.8,0\\n378,54,5.5,4.9,1\\n379,74,5.1,3.6,0\\n380,36,5.8,2.4,1\\n381,78,4.9,3.3,1\\n382,67,3.7,3.6,0\\n383,59,5.1,2.1,0\\n384,77,6.1,2.7,1\\n385,53,1.5,3.1,0\\n386,60,3.2,2.5,1\\n387,56,5.6,1.6,1\\n388,63,4.1,1.0,0\\n389,66,3.8,2.0,0\\n390,51,3.8,1.6,0\\n391,60,3.4,1.6,0\\n392,59,3.3,1.3,1\\n393,51,4.5,1.4,0\\n394,47,4.2,0.6,0\\n395,38,3.2,0.5,1\\n396,43,2.1,1.4,0\\n397,39,1.3,1.9,0\\n398,39,3.3,0.9,0\\n399,38,1.8,0.6,1\\n400,82,21.0,11.1,1\\n401,81,12.0,6.9,1\\n402,80,8.4,2.5,1\\n403,79,10.8,5.7,1\\n404,52,4.2,3.0,1\\n405,82,12.4,4.0,1\\n406,81,8.5,5.7,1\\n407,81,12.1,1.9,1\\n408,81,9.3,2.7,1\\n409,80,5.5,6.2,1\\n410,74,10.6,2.2,1\\n411,82,9.0,3.8,0\\n412,82,5.7,2.1,1\\n413,79,7.3,3.8,1\\n414,80,8.3,1.5,0\\n415,31,3.1,4.1,0\\n416,73,6.9,1.2,1\\n417,82,7.7,2.9,1\\n418,72,6.3,2.1,0\\n419,82,7.9,2.0,1\\n420,78,4.2,1.6,0\\n421,67,8.2,3.7,1\\n422,75,6.1,2.5,1\\n423,78,4.5,0.9,1\\n424,49,5.2,3.6,1\\n425,78,3.6,2.9,1\\n426,38,5.3,1.3,0\\n427,55,6.2,1.6,0\\n428,40,6.5,1.2,0\\n429,47,2.7,2.4,0\\n430,45,3.3,0.9,1\\n431,49,2.9,0.7,1\\n432,48,4.5,1.2,0\\n433,39,3.1,2.9,0\\n434,57,2.9,1.9,1\\n435,57,2.1,1.0,1\\n436,33,4.1,2.2,0\\n437,53,3.4,2.5,0\\n438,15,1.9,1.5,0\\n439,45,3.7,1.8,0\\n440,55,2.7,0.9,1\\n441,35,1.9,1.8,1\\n442,70,23.7,10.6,1\\n443,81,20.1,10.6,1\\n444,76,15.1,3.4,1\\n445,82,10.3,4.5,1\\n446,76,9.9,1.6,1\\n447,58,3.3,2.6,0\\n448,77,13.4,5.2,1\\n449,78,8.4,2.8,1\\n450,73,10.4,2.7,1\\n451,80,5.1,4.1,1\\n452,82,4.4,5.9,1\\n453,74,7.0,1.8,0\\n454,82,9.3,1.5,0\\n455,79,6.7,3.6,1\\n456,51,2.8,2.1,0\\n457,75,4.9,2.9,1\\n458,81,4.3,5.7,1\\n459,75,6.3,5.4,0\\n460,44,3.6,1.8,0\\n461,77,6.1,1.9,0\\n462,43,4.0,1.6,0\\n463,76,8.1,1.8,1\\n464,78,5.2,3.5,1\\n465,77,6.2,3.3,0\\n466,68,5.7,1.4,1\\n467,52,3.7,1.7,0\\n468,62,5.6,3.7,1\\n469,71,5.4,5.3,1\\n470,53,4.9,3.4,0\\n471,44,2.8,2.7,0\\n472,68,2.7,1.1,0\\n473,68,2.7,1.1,1\\n474,49,4.0,1.5,1\\n475,54,3.3,2.2,0\\n476,52,3.2,2.5,0\\n477,62,4.0,1.2,1\\n478,65,5.0,1.6,1\\n479,40,1.9,2.4,0\\n480,55,4.5,1.2,0\\n481,48,3.2,1.6,0\\n482,23,1.3,2.0,0\\n483,63,3.6,1.1,0\\n484,44,3.3,0.9,0\\n485,54,1.5,1.9,1\\n486,39,2.2,0.9,1\\n487,36,2.2,2.1,1\\n488,31,1.2,1.3,1\\n489,35,2.9,0.5,0\\n490,82,21.6,5.4,1\\n491,82,15.5,12.3,1\\n492,72,17.0,2.9,1\\n493,81,17.2,6.9,1\\n494,81,21.4,7.0,1\\n495,51,18.7,4.9,1\\n496,82,11.5,7.4,1\\n497,82,14.4,9.3,1\\n498,79,10.7,1.9,1\\n499,80,8.3,3.8,1\\n500,78,12.8,5.9,1\\n501,76,12.1,4.1,1\\n502,80,9.6,5.1,1\\n503,74,9.3,4.4,1\\n504,74,9.3,4.4,1\\n505,82,7.9,5.2,1\\n506,79,7.0,3.3,0\\n507,59,6.1,5.2,0\\n508,64,4.6,5.4,1\\n509,63,5.3,4.7,1\\n510,71,4.9,3.6,1\\n511,82,6.4,1.8,1\\n512,63,6.3,1.9,0\\n513,64,7.0,1.4,0\\n514,71,6.9,2.7,0\\n515,75,7.3,3.0,1\\n516,80,4.5,4.8,1\\n517,80,6.6,3.2,1\\n518,77,4.9,2.6,1\\n519,49,3.9,1.6,0\\n520,24,2.3,0.6,0\\n521,72,2.9,2.5,0\\n522,54,4.6,1.2,1\\n523,49,4.6,0.8,0\\n524,46,2.9,1.3,0\\n525,54,3.8,2.5,0\\n526,53,4.1,1.1,1\\n527,39,4.9,1.3,1\\n528,43,3.4,0.7,0\\n529,39,3.5,1.7,0\\n530,43,2.7,1.3,0\\n531,42,3.4,1.5,0\\n532,42,3.6,0.6,1\\n533,49,3.1,1.5,0\\n534,51,3.0,0.7,0\\n535,36,1.9,0.8,1\\n536,82,18.9,9.3,1\\n537,81,20.6,3.6,1\\n538,82,9.6,12.1,1\\n539,79,11.0,6.1,1\\n540,80,15.2,2.4,1\\n541,33,5.3,1.6,0\\n542,37,2.1,1.5,0\\n543,81,9.8,8.6,1\\n544,82,14.7,5.4,1\\n545,56,13.2,7.5,1\\n546,81,11.2,2.9,1\\n547,75,12.9,1.9,1\\n548,68,8.4,6.7,0\\n549,70,6.1,3.8,0\\n550,81,11.5,3.3,1\\n551,82,10.5,4.4,1\\n552,79,10.2,4.5,0\\n553,76,6.6,1.6,1\\n554,76,6.6,1.6,0\\n555,82,10.0,4.4,1\\n556,71,7.0,2.4,0\\n557,81,7.9,3.6,0\\n558,82,7.4,2.4,1\\n559,56,4.7,4.9,1\\n560,82,8.1,1.6,1\\n561,74,5.4,2.1,1\\n562,28,1.7,1.5,0\\n563,60,8.7,4.4,1\\n564,64,3.7,1.8,0\\n565,68,5.3,4.5,1\\n566,65,3.9,2.0,1\\n567,53,4.1,1.1,1\\n568,52,4.8,4.1,1\\n569,45,4.0,3.7,1\\n570,54,5.6,1.2,1\\n571,81,4.7,1.2,1\\n572,40,1.8,0.9,0\\n573,48,4.1,2.0,0\\n574,37,3.9,1.4,0\\n575,44,4.9,3.0,0\\n576,55,4.3,2.5,0\\n577,52,4.2,3.0,1\\n578,59,3.2,1.0,0\\n579,47,2.0,0.9,1\\n580,60,2.8,1.2,0\\n581,55,2.7,1.7,0\\n582,44,2.6,1.3,0\\n583,51,2.7,0.9,0\\n584,31,2.3,1.2,0\\n585,82,19.0,3.1,1\\n586,56,13.9,3.8,1\\n587,33,3.0,1.4,0\\n588,64,13.5,8.2,1\\n589,61,14.7,2.4,1\\n590,82,8.8,4.0,1\\n591,77,7.9,5.7,1\\n592,76,8.2,4.4,1\\n593,78,9.0,5.8,1\\n594,81,9.2,4.1,1\\n595,61,6.2,1.8,1\\n596,12,4.7,2.6,0\\n597,60,7.9,7.6,1\\n598,45,6.0,5.9,0\\n599,69,5.5,3.7,1\\n600,41,5.6,2.7,1\\n601,78,5.0,2.4,1\\n602,78,7.1,1.2,1\\n603,73,6.4,2.0,1\\n604,56,8.7,2.1,0\\n605,70,4.8,4.5,1\\n606,61,6.1,1.5,1\\n607,48,3.0,0.9,0\\n608,79,2.9,3.3,1\\n609,52,2.3,1.5,0\\n610,63,6.0,4.7,1\\n611,11,4.8,0.9,0\\n612,63,3.7,1.7,0\\n613,47,3.3,1.0,0\\n614,73,4.0,2.0,1\\n615,51,4.0,2.2,0\\n616,47,3.7,3.1,0\\n617,57,4.1,3.7,1\\n618,46,2.8,2.8,0\\n619,41,2.9,0.9,0\\n620,30,5.8,3.5,0\\n621,40,4.6,2.8,1\\n622,48,2.1,0.9,0\\n623,35,2.6,0.8,0\\n624,27,2.8,0.3,0\\n625,23,3.1,0.8,1\\n626,66,12.8,3.2,1\\n627,56,12.6,3.6,0\\n628,59,9.5,3.2,1\\n629,63,9.5,4.8,1\\n630,66,12.1,3.5,1\\n631,65,11.5,2.6,1\\n632,66,12.5,2.4,1\\n633,64,7.9,5.1,1\\n634,22,3.5,1.5,0\\n635,46,10.2,7.7,1\\n636,66,4.6,3.5,0\\n637,66,8.8,4.7,1\\n638,33,5.5,2.0,1\\n639,63,7.4,4.4,1\\n640,65,6.8,1.4,1\\n641,61,7.6,1.2,1\\n642,51,5.8,1.3,0\\n643,34,4.9,1.8,0\\n644,56,6.4,4.0,0\\n645,59,7.2,2.2,1\\n646,41,4.1,4.2,1\\n647,42,4.0,3.0,1\\n648,43,4.6,3.6,0\\n649,37,4.4,3.9,0\\n650,55,2.9,3.2,0\\n651,42,4.9,3.3,0\\n652,19,3.3,1.4,0\\n653,44,3.8,1.3,0\\n654,64,3.6,1.4,1\\n655,46,4.7,2.6,1\\n656,42,5.0,2.4,1\\n657,38,3.9,0.9,0\\n658,40,4.4,0.8,0\\n659,26,4.4,2.4,1\\n660,26,2.2,2.2,0\\n661,26,2.8,1.0,0\\n662,44,2.9,0.8,0\\n663,38,2.9,0.9,1\\n664,42,2.6,1.3,1\\n665,36,3.2,1.6,0\\n666,82,22.5,12.1,1\\n667,69,16.4,4.6,1\\n668,82,9.7,6.4,1\\n669,81,14.1,8.6,1\\n670,80,9.4,7.5,1\\n671,79,9.0,3.0,1\\n672,65,7.7,7.1,1\\n673,42,11.7,2.5,0\\n674,78,7.2,3.9,1\\n675,81,6.7,2.8,1\\n676,80,9.8,2.5,1\\n677,61,7.8,3.7,1\\n678,78,6.8,5.3,1\\n679,15,5.4,1.3,0\\n680,81,5.6,3.3,1\\n681,58,4.1,3.1,1\\n682,54,5.9,2.6,0\\n683,72,5.4,1.9,1\\n684,52,6.3,3.8,1\\n685,65,5.3,3.9,1\\n686,60,4.3,3.0,1\\n687,49,3.9,2.9,0\\n688,66,2.8,1.3,1\\n689,42,3.8,1.5,0\\n690,43,2.3,1.1,1\\n691,42,3.8,1.7,0\\n692,49,3.6,2.0,1\\n693,18,1.0,1.9,1\\n694,38,2.9,0.9,0\\n695,22,2.3,1.0,0\\n696,41,2.0,1.0,0\\n697,72,20.1,5.3,1\\n698,80,17.5,4.5,1\\n699,82,15.5,3.4,1\\n700,22,2.5,1.6,0\\n701,81,13.5,2.4,0\\n702,76,12.4,2.5,1\\n703,82,9.0,7.5,1\\n704,73,14.5,2.9,1\\n705,82,9.4,2.3,1\\n706,73,8.0,2.6,1\\n707,76,9.9,3.2,1\\n708,78,8.4,4.5,0\\n709,20,3.4,2.0,0\\n710,77,8.6,2.9,1\\n711,65,8.3,1.9,1\\n712,74,8.9,3.0,1\\n713,56,8.6,1.9,1\\n714,82,7.8,6.4,1\\n715,76,6.6,2.1,1\\n716,80,7.4,2.5,0\\n717,81,4.7,1.6,1\\n718,56,7.3,1.6,1\\n719,82,18.3,10.5,0\\n720,47,5.2,3.7,1\\n721,69,5.1,2.5,1\\n722,60,4.5,2.8,0\\n723,52,2.8,4.1,0\\n724,27,5.0,1.1,1\\n725,60,4.7,1.6,1\\n726,63,3.9,2.5,1\\n727,71,2.9,2.1,1\\n728,39,2.7,2.5,1\\n729,71,3.2,0.9,1\\n730,57,3.3,1.4,0\\n731,44,3.0,1.0,0\\n732,43,2.6,1.3,1\\n733,43,2.6,1.3,1\\n734,51,2.7,1.2,1\\n735,12,1.7,0.7,0\\n736,18,2.4,1.1,0\\n737,53,17.5,7.0,0\\n738,25,2.3,0.7,0\\n739,82,18.5,3.8,1\\n740,81,16.8,3.9,1\\n741,78,16.1,2.6,1\\n742,82,15.3,4.9,1\\n743,82,10.0,2.8,1\\n744,82,13.0,8.1,1\\n745,82,11.1,7.4,1\\n746,72,11.8,1.8,1\\n747,78,6.4,5.2,0\\n748,81,11.1,9.1,1\\n749,77,8.4,2.3,1\\n750,81,13.9,5.4,1\\n751,75,8.1,3.1,1\\n752,67,10.1,3.0,1\\n753,61,8.9,7.0,0\\n754,56,5.3,2.3,0\\n755,66,7.4,4.7,1\\n756,76,5.6,4.6,1\\n757,77,5.7,2.1,1\\n758,79,7.7,3.7,1\\n759,75,6.5,3.9,1\\n760,51,5.7,1.7,0\\n761,53,4.3,4.5,1\\n762,70,7.1,3.5,1\\n763,68,5.3,0.8,0\\n764,80,13.2,3.4,0\\n765,44,4.9,1.1,1\\n766,53,4.3,1.1,1\\n767,59,4.7,1.9,1\\n768,60,2.8,0.7,1\\n769,48,4.7,2.9,1\\n770,40,3.9,2.0,0\\n771,19,2.7,2.2,1\\n772,76,13.8,2.5,0\\n773,60,3.1,2.0,1\\n774,51,1.9,1.7,0\\n775,37,2.4,0.9,0\\n776,80,20.3,4.3,1\\n777,80,10.5,4.7,1\\n778,78,8.5,6.2,1\\n779,79,12.7,4.5,0\\n780,53,9.4,2.6,1\\n781,73,8.1,4.2,0\\n782,59,8.8,3.0,1\\n783,79,5.8,3.7,1\\n784,74,8.2,4.2,1\\n785,74,6.6,5.6,1\\n786,35,7.3,3.6,1\\n787,57,7.6,2.3,1\\n788,73,5.8,3.9,1\\n789,73,5.6,4.4,0\\n790,60,10.3,5.5,0\\n791,42,8.1,4.9,1\\n792,56,4.2,1.0,0\\n793,75,7.5,1.5,1\\n794,76,4.5,3.0,1\\n795,69,4.5,3.0,1\\n796,50,5.6,2.2,0\\n797,71,4.7,3.2,1\\n798,75,3.7,1.8,1\\n799,51,5.2,1.1,1\\n800,32,3.7,1.0,1\\n801,57,3.9,2.1,0\\n802,52,1.9,2.6,0\\n803,26,4.1,3.4,0\\n804,61,4.3,2.8,1\\n805,70,1.3,2.0,1\\n806,38,4.0,2.6,1\\n807,38,3.2,1.6,0\\n808,64,0.9,0.8,0\\n809,14,1.1,0.4,0\\n810,66,7.0,5.3,0\\n811,57,16.8,4.4,1\\n812,78,11.8,2.9,0\\n813,78,10.8,4.5,1\\n814,78,6.4,3.7,1\\n815,82,10.1,2.7,1\\n816,63,9.0,5.0,1\\n817,48,7.7,2.0,0\\n818,52,6.6,2.1,0\\n819,82,7.4,5.1,1\\n820,81,5.5,5.4,1\\n821,82,6.8,5.2,1\\n822,67,6.6,1.9,1\\n823,79,6.8,2.1,0\\n824,79,6.8,2.1,0\\n825,60,4.6,1.5,1\\n826,68,4.9,4.3,1\\n827,29,5.8,5.3,0\\n828,72,4.4,1.7,1\\n829,47,6.2,1.5,0\\n830,52,4.5,2.0,0\\n831,42,6.0,1.2,1\\n832,72,5.2,3.7,1\\n833,59,4.4,3.1,0\\n834,43,2.9,2.5,0\\n835,81,7.5,4.1,0\\n836,46,3.9,1.8,1\\n837,56,4.6,1.3,1\\n838,68,2.7,1.8,0\\n839,58,3.3,2.3,1\\n840,63,4.2,3.4,1\\n841,56,3.1,2.7,1\\n842,61,4.2,2.9,0\\n843,41,4.1,0.7,0\\n844,42,3.4,0.7,1\\n845,29,4.0,2.4,0\\n846,42,2.8,0.9,0\\n847,61,2.9,1.3,0\\n848,44,2.5,1.3,1\\n849,44,2.5,1.3,0\\n850,38,2.4,1.9,0\\n851,35,1.5,0.7,1\\n852,78,16.1,5.1,1\\n853,80,11.9,3.3,1\\n854,81,13.0,6.4,1\\n855,80,8.8,3.3,1\\n856,80,10.8,2.4,1\\n857,63,5.5,5.0,0\\n858,79,8.5,4.8,1\\n859,65,12.3,5.8,1\\n860,78,7.5,4.9,1\\n861,61,7.6,4.9,1\\n862,72,9.3,2.3,1\\n863,61,9.7,1.9,0\\n864,79,6.7,2.0,1\\n865,81,6.1,3.1,0\\n866,80,6.7,3.1,1\\n867,49,6.8,2.1,1\\n868,61,6.6,2.1,1\\n869,79,7.9,1.8,0\\n870,67,5.1,4.5,1\\n871,67,5.1,4.5,0\\n872,36,5.8,1.9,1\\n873,80,3.2,1.8,0\\n874,69,7.0,3.3,1\\n875,66,3.8,1.3,0\\n876,18,4.7,1.7,0\\n877,59,3.4,3.3,1\\n878,37,3.0,2.2,1\\n879,68,4.1,2.1,1\\n880,43,3.4,2.0,0\\n881,39,1.8,0.8,1\\n882,51,2.7,1.0,0\\n883,23,3.4,1.7,1\\n884,32,8.3,2.5,0\\n885,39,1.8,0.7,0\\n886,57,2.3,2.3,1\\n887,46,1.6,1.7,1\\n888,33,1.5,1.5,0\\n889,73,15.1,10.9,1\\n890,82,9.0,5.7,1\\n891,82,12.0,10.0,1\\n892,80,10.1,6.0,1\\n893,74,9.7,6.2,1\\n894,82,5.9,2.6,1\\n895,76,10.3,2.0,1\\n896,78,5.1,2.7,1\\n897,79,8.7,2.4,1\\n898,62,7.0,5.4,0\\n899,68,6.8,1.5,1\\n900,23,4.0,2.7,0\\n901,82,7.2,3.5,1\\n902,43,6.1,3.1,0\\n903,80,5.9,3.0,1\\n904,82,5.6,4.6,1\\n905,77,6.4,2.9,1\\n906,76,5.7,1.3,1\\n907,46,4.6,3.8,0\\n908,71,6.7,4.4,1\\n909,25,3.7,1.4,0\\n910,68,5.0,1.8,0\\n911,62,3.5,1.4,1\\n912,67,4.1,2.9,1\\n913,39,4.5,1.7,1\\n914,38,3.1,1.1,0\\n915,36,3.1,0.9,0\\n916,76,5.6,1.9,0\\n917,38,3.3,1.4,0\\n918,11,2.4,3.4,0\\n919,45,2.9,1.3,1\\n920,79,20.9,5.5,1\\n921,82,21.0,6.1,1\\n922,76,12.0,3.4,1\\n923,61,16.2,4.0,1\\n924,75,11.5,7.4,1\\n925,70,9.6,3.8,1\\n926,55,7.1,3.2,1\\n927,73,6.8,4.3,1\\n928,75,7.3,6.3,1\\n929,67,8.6,5.5,1\\n930,82,6.1,5.6,1\\n931,37,4.2,1.3,0\\n932,38,4.5,4.0,1\\n933,47,6.2,3.6,1\\n934,75,5.9,1.6,1\\n935,56,8.5,2.6,1\\n936,41,4.2,4.5,1\\n937,81,5.9,1.6,1\\n938,69,5.5,1.6,1\\n939,53,6.9,1.2,1\\n940,24,4.7,2.8,0\\n941,57,5.0,1.3,1\\n942,71,3.8,4.2,1\\n943,35,4.4,2.9,1\\n944,41,3.0,1.7,0\\n945,74,4.5,1.5,1\\n946,49,5.6,2.3,0\\n947,36,3.5,3.3,0\\n948,41,3.5,1.3,1\\n949,72,2.4,1.8,1\\n950,38,1.8,1.0,0\\n951,54,3.4,1.0,0\\n952,16,1.2,0.4,1\\n953,78,15.4,5.1,1\\n954,55,6.0,1.7,0\\n955,82,13.5,8.8,1\\n956,47,13.4,1.7,0\\n957,70,12.5,6.5,1\\n958,75,9.5,2.6,0\\n959,81,10.0,7.5,1\\n960,49,8.9,5.7,1\\n961,82,5.1,3.0,0\\n962,64,8.3,2.3,0\\n963,33,5.2,2.8,0\\n964,70,3.1,1.3,0\\n965,59,6.9,2.7,0\\n966,72,7.5,2.6,1\\n967,67,3.2,6.6,1\\n968,66,6.2,1.8,1\\n969,75,6.4,3.4,0\\n970,82,5.7,2.6,1\\n971,82,5.7,2.6,1\\n972,27,5.7,3.2,0\\n973,72,5.1,1.2,0\\n974,42,6.4,1.7,1\\n975,52,4.5,3.3,1\\n976,46,3.2,1.5,1\\n977,35,4.8,2.4,0\\n978,51,3.9,1.2,0\\n979,55,4.8,3.0,0\\n980,58,2.3,1.3,0\\n981,51,5.6,2.6,0\\n982,76,3.0,1.2,1\\n983,39,4.1,1.4,0\\n984,46,3.7,2.3,1\\n985,50,3.7,0.9,1\\n986,42,3.3,1.1,1\\n987,48,1.9,2.1,0\\n988,64,2.1,0.9,1\\n989,36,2.6,0.9,0\\n990,53,2.4,1.0,0\\n991,57,5.0,1.5,0\\n992,19,1.6,0.4,0\\n993,78,14.4,5.4,1\\n994,80,14.4,4.3,1\\n995,80,9.4,3.7,1\\n996,77,9.2,2.6,1\\n997,78,8.7,3.3,1\\n998,55,3.8,2.4,0\\n999,73,8.8,5.7,1\\n1000,77,7.5,3.3,1\\n1001,47,10.9,2.8,1\\n1002,79,9.4,3.7,1\\n1003,67,7.2,2.4,1\\n1004,70,6.4,4.2,1\\n1005,62,5.1,5.2,1\\n1006,71,6.1,4.8,1\\n1007,77,4.5,3.9,1\\n1008,82,5.9,3.9,1\\n1009,68,3.8,3.1,0\\n1010,72,6.7,3.8,1\\n1011,36,5.3,1.4,0\\n1012,64,3.6,1.3,1\\n1013,57,4.5,3.5,1\\n1014,62,5.2,1.1,0\\n1015,35,2.4,1.4,0\\n1016,47,4.3,3.9,1\\n1017,40,3.1,1.1,0\\n1018,53,3.6,1.8,1\\n1019,60,1.8,2.0,1\\n1020,53,3.1,2.0,0\\n1021,54,3.2,1.6,1\\n1022,21,3.8,0.5,0\\n1023,41,2.8,1.7,1\\n1024,35,1.8,0.5,0\\n1025,39,4.7,3.1,0\\n1026,68,12.0,7.4,1\\n1027,48,13.2,7.5,1\\n1028,82,11.9,4.0,1\\n1029,81,9.4,5.9,1\\n1030,80,9.3,3.2,1\\n1031,51,8.6,3.7,0\\n1032,72,9.5,4.3,1\\n1033,77,8.2,2.7,1\\n1034,65,9.5,2.2,0\\n1035,59,7.6,4.7,1\\n1036,63,3.7,2.1,0\\n1037,78,5.9,3.2,1\\n1038,50,6.3,1.6,0\\n1039,76,8.1,3.4,1\\n1040,64,3.9,3.6,1\\n1041,61,4.6,1.5,1\\n1042,78,5.1,2.3,1\\n1043,80,4.9,3.6,1\\n1044,76,5.9,1.2,1\\n1045,78,5.4,1.7,1\\n1046,53,5.0,1.2,0\\n1047,42,3.9,2.2,1\\n1048,50,5.0,0.8,1\\n1049,55,4.8,1.4,0\\n1050,54,3.1,1.9,0\\n1051,25,6.7,2.2,0\\n1052,38,4.0,1.2,0\\n1053,70,2.0,2.2,1\\n1054,40,2.2,0.7,1\\n1055,81,20.1,10.0,1\\n1056,76,16.6,7.8,1\\n1057,77,18.0,5.3,1\\n1058,72,12.0,4.3,1\\n1059,73,11.6,3.7,0\\n1060,72,6.7,5.2,1\\n1061,82,11.1,3.4,1\\n1062,81,8.2,3.9,1\\n1063,72,8.3,6.1,1\\n1064,51,10.2,6.5,1\\n1065,75,9.4,2.5,0\\n1066,79,6.3,2.5,1\\n1067,81,8.1,2.0,1\\n1068,82,9.5,1.5,1\\n1069,71,9.0,1.8,1\\n1070,48,5.7,3.6,1\\n1071,45,11.8,4.2,0\\n1072,82,5.9,2.0,1\\n1073,77,8.4,3.9,1\\n1074,67,7.0,2.7,1\\n1075,71,2.2,3.5,1\\n1076,45,3.1,1.2,0\\n1077,74,3.8,1.5,0\\n1078,52,2.5,2.2,1\\n1079,46,2.7,1.8,0\\n1080,47,2.6,1.9,1\\n1081,75,9.9,8.1,0\\n1082,40,2.2,2.0,0\\n1083,59,2.6,0.7,0\\n1084,53,2.0,1.0,1\\n1085,49,3.2,1.5,1\\n1086,22,1.5,1.5,0\\n1087,50,12.8,3.1,1\\n1088,50,18.3,5.7,1\\n1089,50,13.2,2.7,1\\n1090,48,16.5,6.4,1\\n1091,82,8.9,4.3,0\\n1092,50,10.9,1.7,1\\n1093,28,6.3,10.3,1\\n1094,41,3.7,5.2,1\\n1095,49,9.9,2.3,1\\n1096,50,10.1,3.5,0\\n1097,47,9.6,6.4,1\\n1098,50,8.2,4.3,1\\n1099,25,12.3,5.5,0\\n1100,50,9.1,3.8,1\\n1101,49,5.3,3.7,1\\n1102,49,6.2,3.0,1\\n1103,42,4.1,1.2,0\\n1104,28,3.3,3.4,1\\n1105,24,5.2,1.8,1\\n1106,39,5.6,1.9,1\\n1107,67,7.8,3.3,0\\n1108,34,3.5,0.9,1\\n1109,26,5.1,3.0,1\\n1110,38,6.3,3.1,1\\n1111,46,4.5,1.8,1\\n1112,30,3.2,1.6,0\\n1113,31,3.8,1.3,0\\n1114,34,4.8,1.5,0\\n1115,22,3.0,0.8,1\\n1116,27,2.9,2.0,0\\n1117,24,2.1,0.9,0\\n1118,59,11.9,3.2,0\\n1119,35,3.3,1.9,0\\n1120,33,2.4,0.7,0\\n1121,24,2.7,1.3,1\\n1122,26,1.6,1.4,1\\n1123,62,19.7,6.6,1\\n1124,80,15.3,3.5,1\\n1125,80,9.0,3.2,1\\n1126,82,10.1,4.0,1\\n1127,82,10.1,4.0,0\\n1128,68,11.6,4.4,1\\n1129,77,10.1,2.8,0\\n1130,77,7.5,2.2,1\\n1131,66,11.7,2.8,1\\n1132,80,11.2,2.4,1\\n1133,74,7.8,1.9,1\\n1134,66,7.7,1.9,0\\n1135,65,8.4,5.4,1\\n1136,77,11.0,3.7,1\\n1137,80,10.2,5.6,1\\n1138,71,11.5,4.2,1\\n1139,52,9.5,4.5,1\\n1140,54,6.0,1.5,1\\n1141,58,5.8,1.2,0\\n1142,64,7.0,4.2,1\\n1143,38,4.3,1.5,1\\n1144,38,6.4,2.4,0\\n1145,74,3.8,3.4,1\\n1146,34,6.4,3.6,0\\n1147,32,6.7,5.1,0\\n1148,58,4.0,2.9,0\\n1149,35,3.5,1.1,1\\n1150,39,3.3,1.7,0\\n1151,54,2.8,2.0,1\\n1152,39,3.5,2.4,0\\n1153,45,3.1,0.8,1\\n1154,38,1.4,0.6,0\\n1155,40,3.8,1.0,1\\n1156,37,1.9,0.7,1\\n1157,76,23.5,4.1,1\\n1158,82,16.4,3.9,1\\n1159,82,17.5,9.0,1\\n1160,80,18.7,6.9,1\\n1161,67,15.8,2.7,1\\n1162,82,13.4,4.0,1\\n1163,63,14.8,6.3,1\\n1164,82,9.4,2.0,1\\n1165,77,7.3,6.1,1\\n1166,62,7.9,3.2,0\\n1167,68,8.0,7.3,1\\n1168,41,4.6,1.7,0\\n1169,65,5.9,2.8,1\\n1170,71,4.8,4.5,1\\n1171,71,7.6,1.9,1\\n1172,64,3.9,1.5,1\\n1173,57,4.8,3.5,1\\n1174,72,5.1,4.1,1\\n1175,50,8.7,2.3,0\\n1176,61,5.4,1.6,1\\n1177,43,5.0,3.4,1\\n1178,75,4.1,3.3,1\\n1179,68,4.8,2.3,1\\n1180,80,3.9,1.2,1\\n1181,57,3.1,2.9,0\\n1182,45,4.1,2.8,1\\n1183,54,3.0,3.0,1\\n1184,70,2.2,2.4,0\\n1185,65,6.3,3.0,0\\n1186,36,2.3,1.6,1\\n1187,35,2.2,1.7,0\\n1188,35,1.8,0.7,1\\n1189,35,3.2,1.2,0\\n1190,70,19.0,4.0,1\\n1191,82,15.0,4.6,1\\n1192,72,19.2,3.7,1\\n1193,82,15.3,8.7,1\\n1194,77,13.3,7.4,1\\n1195,80,10.8,2.5,0\\n1196,76,13.4,7.5,1\\n1197,80,10.4,6.3,1\\n1198,65,10.1,4.7,1\\n1199,79,10.1,2.1,1\\n1200,64,10.7,3.4,1\\n1201,74,9.0,5.9,1\\n1202,54,6.3,5.6,0\\n1203,79,6.4,4.5,1\\n1204,69,7.5,3.4,1\\n1205,72,5.0,4.4,0\\n1206,75,4.5,4.0,1\\n1207,42,5.5,1.0,1\\n1208,79,5.3,1.7,1\\n1209,69,3.8,2.9,1\\n1210,62,4.5,1.8,0\\n1211,62,4.9,1.2,0\\n1212,51,5.1,2.2,0\\n1213,64,3.9,3.4,1\\n1214,44,6.6,1.4,0\\n1215,57,3.6,3.1,1\\n1216,53,5.6,2.2,1\\n1217,36,2.9,1.2,0\\n1218,60,4.0,1.7,1\\n1219,59,3.7,0.7,1\\n1220,57,3.2,1.9,1\\n1221,47,5.3,3.2,0\\n1222,43,2.7,1.0,1\\n1223,41,2.6,0.6,0\\n1224,61,3.1,1.8,0\\n1225,49,1.8,1.6,0\\n1226,53,2.5,1.5,0\\n1227,33,1.1,0.8,0\\n1228,70,19.9,6.4,1\\n1229,80,21.9,6.4,0\\n1230,80,21.9,6.4,1\\n1231,65,17.0,8.4,1\\n1232,63,6.0,5.8,0\\n1233,79,11.7,5.4,1\\n1234,81,14.1,4.4,1\\n1235,64,14.0,3.9,1\\n1236,78,10.0,7.3,1\\n1237,72,12.6,5.6,1\\n1238,80,13.2,7.5,1\\n1239,79,11.4,6.0,0\\n1240,78,10.4,2.6,1\\n1241,66,6.8,7.4,0\\n1242,81,8.2,2.7,1\\n1243,32,5.9,2.5,0\\n1244,67,9.2,2.8,1\\n1245,53,5.8,1.3,1\\n1246,45,6.5,2.9,1\\n1247,37,7.4,1.9,0\\n1248,64,4.7,3.4,0\\n1249,62,3.9,2.7,0\\n1250,63,6.0,2.2,1\\n1251,81,7.0,1.6,1\\n1252,55,3.5,1.1,0\\n1253,46,3.9,3.3,0\\n1254,41,3.3,2.4,1\\n1255,46,4.1,3.3,1\\n1256,49,2.4,1.0,1\\n1257,53,2.7,2.3,1\\n1258,60,3.3,1.2,0\\n1259,58,4.6,1.1,0\\n1260,59,3.5,2.6,1\\n1261,55,1.7,1.9,1\\n1262,41,4.1,1.4,0\\n1263,46,3.3,1.2,0\\n1264,42,3.0,0.8,0\\n1265,49,4.8,0.5,0\\n1266,38,3.1,0.6,0\\n1267,82,16.0,5.4,1\\n1268,79,19.2,4.5,1\\n1269,81,13.6,2.9,1\\n1270,76,17.5,9.1,1\\n1271,47,5.2,3.6,0\\n1272,82,13.5,7.6,1\\n1273,79,16.6,4.0,1\\n1274,82,10.3,2.3,1\\n1275,79,9.4,5.1,1\\n1276,71,9.6,5.8,1\\n1277,79,5.7,6.2,1\\n1278,65,12.0,2.9,1\\n1279,37,6.9,5.7,1\\n1280,81,5.8,7.5,1\\n1281,81,7.7,6.2,1\\n1282,79,8.5,1.5,1\\n1283,49,8.7,3.1,0\\n1284,79,8.1,2.9,1\\n1285,75,6.9,3.0,1\\n1286,66,6.7,2.0,1\\n1287,67,5.0,2.7,1\\n1288,23,4.2,3.5,0\\n1289,47,4.6,2.3,0\\n1290,74,5.5,3.3,0\\n1291,77,5.4,2.0,1\\n1292,51,4.8,2.6,1\\n1293,68,3.6,3.4,0\\n1294,70,4.8,1.2,1\\n1295,55,3.2,3.1,0\\n1296,64,5.3,1.1,1\\n1297,58,4.8,1.3,1\\n1298,67,3.0,2.9,1\\n1299,39,5.4,2.5,0\\n1300,60,3.1,0.7,1\\n1301,40,1.8,0.7,1\\n1302,48,3.4,0.8,1\\n1303,38,1.9,0.9,0\\n1304,53,3.0,1.7,0\\n1305,45,2.6,2.6,1\\n1306,68,1.9,0.8,0\\n1307,47,1.9,1.3,1\\n1308,81,23.4,13.9,1\\n1309,77,15.4,3.5,1\\n1310,81,18.2,8.7,1\\n1311,81,14.7,9.6,1\\n1312,78,21.0,10.3,1\\n1313,82,14.7,9.1,1\\n1314,82,15.6,7.2,1\\n1315,79,10.1,5.0,1\\n1316,72,13.5,7.4,1\\n1317,59,17.0,4.5,1\\n1318,82,9.8,6.2,1\\n1319,48,15.8,4.6,0\\n1320,71,13.8,4.1,1\\n1321,39,8.9,3.2,1\\n1322,45,8.1,2.4,1\\n1323,77,10.4,2.3,1\\n1324,74,8.0,2.6,0\\n1325,20,9.4,4.1,0\\n1326,77,9.1,2.8,1\\n1327,56,5.6,4.9,1\\n1328,73,10.3,2.0,0\\n1329,40,6.1,2.1,0\\n1330,82,6.6,5.3,1\\n1331,82,5.2,1.4,1\\n1332,50,5.4,1.1,1\\n1333,79,5.3,4.0,0\\n1334,80,4.3,1.2,0\\n1335,80,4.3,1.2,0\\n1336,68,3.9,1.5,1\\n1337,43,5.4,3.8,0\\n1338,52,4.5,0.7,1\\n1339,47,4.4,0.9,1\\n'"
      ]
     },
     "execution_count": 29,
     "metadata": {},
     "output_type": "execute_result"
    }
   ],
   "source": [
    "# Export the extracted data.\n",
    "\n",
    "extracted_data.to_csv()\n"
   ]
  },
  {
   "cell_type": "markdown",
   "metadata": {
    "id": "izEApnWFxTCC"
   },
   "source": [
    "<details>\n",
    "<summary><h4><strong>Hint 1</strong></h4></summary>\n",
    "\n",
    "There is a function in the `pandas` library that exports a DataFrame as a .csv file. \n",
    "</details>"
   ]
  },
  {
   "cell_type": "markdown",
   "metadata": {
    "id": "13VAjGwHxTCC"
   },
   "source": [
    "<details>\n",
    "<summary><h4><strong>Hint 2</strong></h4></summary>\n",
    "\n",
    "Use the `to_csv()` function to export the DataFrame as a .csv file. \n",
    "</details>"
   ]
  },
  {
   "cell_type": "markdown",
   "metadata": {
    "id": "X_BDkIONxTCE"
   },
   "source": [
    "<details>\n",
    "<summary><h4><strong>Hint 3</strong></h4></summary>\n",
    "\n",
    "Call the `to_csv()` function on `extracted_data`, and pass in the name that you want to give to the resulting .csv file. Specify the file name as a string and in the file name. Make sure to include `.csv` as the file extension. Also, pass in the parameter `index` set to `0`, so that when the export occurs, the row indices from the DataFrame are not treated as an additional column in the resulting file. \n",
    "</details>"
   ]
  },
  {
   "cell_type": "markdown",
   "metadata": {
    "id": "xur2FC5xAzp0"
   },
   "source": [
    "## **Considerations**\n"
   ]
  },
  {
   "cell_type": "markdown",
   "metadata": {
    "id": "cEvvjB_Pgcz6"
   },
   "source": [
    "**What are some key takeaways that you learned during this lab? Consider the process you followed and what tasks were performed during each step, as well as important priorities when training data.**"
   ]
  },
  {
   "cell_type": "markdown",
   "metadata": {
    "id": "GDDqO95rgfDP"
   },
   "source": [
    " [Write your response here. Double-click (or enter) to edit.]"
   ]
  },
  {
   "cell_type": "markdown",
   "metadata": {
    "id": "WvBogkdfggKN"
   },
   "source": [
    "**What summary would you provide to stakeholders? Consider key attributes to be shared from the data, as well as upcoming project plans.**"
   ]
  },
  {
   "cell_type": "markdown",
   "metadata": {
    "id": "8d2_JyVFgg0r"
   },
   "source": [
    " [Write your response here. Double-click (or enter) to edit.]"
   ]
  },
  {
   "cell_type": "markdown",
   "metadata": {},
   "source": [
    "**Congratulations!** You've completed this lab. However, you may not notice a green check mark next to this item on Coursera's platform. Please continue your progress regardless of the check mark. Just click on the \"save\" icon at the top of this notebook to ensure your work has been logged."
   ]
  }
 ],
 "metadata": {
  "colab": {
   "collapsed_sections": [],
   "provenance": []
  },
  "kernelspec": {
   "display_name": "Python 3",
   "language": "python",
   "name": "python3"
  },
  "language_info": {
   "codemirror_mode": {
    "name": "ipython",
    "version": 3
   },
   "file_extension": ".py",
   "mimetype": "text/x-python",
   "name": "python",
   "nbconvert_exporter": "python",
   "pygments_lexer": "ipython3",
   "version": "3.7.6"
  }
 },
 "nbformat": 4,
 "nbformat_minor": 1
}
